{
 "cells": [
  {
   "cell_type": "code",
   "execution_count": 23,
   "id": "cbbe5edc-abe8-43c8-bc09-8488c075326f",
   "metadata": {},
   "outputs": [],
   "source": [
    "# ==============================\n",
    "# Imports\n",
    "# ==============================\n",
    "\n",
    "# Manipulation des données\n",
    "import pandas as pd\n",
    "import numpy as np\n",
    "\n",
    "# Visualisation\n",
    "import matplotlib.pyplot as plt\n",
    "import seaborn as sns\n",
    "import plotly.express as px\n",
    "\n",
    "# EDA automatisé\n",
    "from ydata_profiling import ProfileReport\n",
    "\n",
    "# Analyse temporelle\n",
    "from statsmodels.tsa.seasonal import seasonal_decompose\n",
    "\n",
    "# Préparation des données & ML pipeline\n",
    "from sklearn.model_selection import train_test_split, cross_val_score, KFold\n",
    "from sklearn.pipeline import Pipeline\n",
    "from sklearn.compose import ColumnTransformer\n",
    "from sklearn.preprocessing import OneHotEncoder, FunctionTransformer\n",
    "\n",
    "# Évaluation des modèles\n",
    "from sklearn.metrics import classification_report, mean_absolute_error, mean_squared_error, make_scorer\n",
    "\n",
    "# XGBoost\n",
    "import xgboost as xgb\n",
    "from xgboost import XGBClassifier, XGBRegressor, DMatrix, train\n",
    "\n",
    "# Tuning\n",
    "from scipy.stats import uniform, randint\n",
    "from sklearn.model_selection import RandomizedSearchCV\n",
    "\n",
    "# Model artifacts\n",
    "import joblib\n",
    "\n",
    "import warnings"
   ]
  },
  {
   "cell_type": "markdown",
   "id": "7eda2734-bb96-4cf7-87f0-7c9612655de3",
   "metadata": {},
   "source": [
    "# Exploration des données (EDA)\n",
    "\n",
    "Dans cette section, j'explore rapidement le dataset afin d'identifier :\n",
    "\n",
    "- Le volume du dataset\n",
    "- Les types des colonnes\n",
    "- Les valeurs manquantes  \n",
    "- La cardinalité des features\n",
    "\n",
    "Ces étapes me permettent d’avoir une compréhension globale des données."
   ]
  },
  {
   "cell_type": "code",
   "execution_count": 2,
   "id": "39e54eaa-d988-42dd-9457-845913f533b4",
   "metadata": {
    "scrolled": true
   },
   "outputs": [
    {
     "name": "stdout",
     "output_type": "stream",
     "text": [
      "Shape : (2121, 21)\n",
      "\n",
      "Types de colonnes :\n",
      "Row ID             int64\n",
      "Order ID          object\n",
      "Order Date        object\n",
      "Ship Date         object\n",
      "Ship Mode         object\n",
      "Customer ID       object\n",
      "Customer Name     object\n",
      "Segment           object\n",
      "Country           object\n",
      "City              object\n",
      "State             object\n",
      "Postal Code        int64\n",
      "Region            object\n",
      "Product ID        object\n",
      "Category          object\n",
      "Sub-Category      object\n",
      "Product Name      object\n",
      "Sales            float64\n",
      "Quantity           int64\n",
      "Discount         float64\n",
      "Profit           float64\n",
      "dtype: object\n",
      "\n",
      "Valeurs manquantes par colonne :\n",
      "Row ID           0\n",
      "Order ID         0\n",
      "Order Date       0\n",
      "Ship Date        0\n",
      "Ship Mode        0\n",
      "Customer ID      0\n",
      "Customer Name    0\n",
      "Segment          0\n",
      "Country          0\n",
      "City             0\n",
      "State            0\n",
      "Postal Code      0\n",
      "Region           0\n",
      "Product ID       0\n",
      "Category         0\n",
      "Sub-Category     0\n",
      "Product Name     0\n",
      "Sales            0\n",
      "Quantity         0\n",
      "Discount         0\n",
      "Profit           0\n",
      "dtype: int64\n",
      "\n",
      "Valeurs uniques par colonne :\n",
      "Row ID           2121\n",
      "Profit           1777\n",
      "Order ID         1764\n",
      "Sales            1636\n",
      "Ship Date         960\n",
      "Order Date        889\n",
      "Customer ID       707\n",
      "Customer Name     707\n",
      "Postal Code       454\n",
      "Product Name      380\n",
      "Product ID        375\n",
      "City              371\n",
      "State              48\n",
      "Quantity           14\n",
      "Discount           11\n",
      "Region              4\n",
      "Sub-Category        4\n",
      "Ship Mode           4\n",
      "Segment             3\n",
      "Country             1\n",
      "Category            1\n",
      "dtype: int64\n"
     ]
    }
   ],
   "source": [
    "# Chargement des données\n",
    "df = pd.read_csv(\"../data/raw/stores_sales_forecasting.csv\", encoding=\"latin1\")\n",
    "\n",
    "print(\"Shape :\", df.shape)\n",
    "print(\"\\nTypes de colonnes :\")\n",
    "print(df.dtypes)\n",
    "\n",
    "print(\"\\nValeurs manquantes par colonne :\")\n",
    "print(df.isna().sum())\n",
    "\n",
    "print(\"\\nValeurs uniques par colonne :\")\n",
    "print(df.nunique().sort_values(ascending=False))"
   ]
  },
  {
   "cell_type": "markdown",
   "id": "ee9dec3d-ec4e-429b-878e-b9bbe35d6078",
   "metadata": {},
   "source": [
    "### Constat\n",
    "- Dataset petit (2121 lignes et 21 colonnes). Dans un contexte réel, on chercherait à collecter plus de données ou utiliser des techniques d'augmentation. Dans ce cas-ci, je me contente du dataset actuel.\n",
    "\n",
    "- `Country`, `Category`, `Row ID` et `Order ID` sont quasi uniques et n’apportent aucune information discriminante pour le modèle.\n",
    "\n",
    "- `Quantity` peut causer du data leakage car c'est une donnée disponible uniquement après la vente et est directement lié à la vente, alors je vais l'exclure des features.\n",
    "\n",
    "- `Costumer ID` et `Costumer Name` sont redondants, alors je vais garder seulement `Costumer ID`\n",
    "\n",
    "- `Product ID` et `Product Name` sont redondants, alors je vais garder seulement `Product ID`\n",
    "\n",
    "- `Postal Code` est iutile car trop granulaire considérant et on a déjà `City`, `State`, `Region` dans le dataset\n",
    "\n",
    "### Prochaine étape\n",
    "\n",
    "- Laisser tomber `Country`, `Category`,`Row ID`, `Order ID`, `Quantity`, `Costumer Name`, `Product Name`, `Postal Code`\n",
    "\n",
    "- Je remarque qu'il y a une colonne `Profit`. D'un point de vue business, prévoir les ventes, tel que le mandat le définit, est utile. Par contre, si les ventes n'entrainent pas des profits, les dirigeants aimeraient assurément le savoir. Je vais donc vérifier la distribution des profits et possiblement faire un modèle en deux étapes si certaines ventes entrainent des pertes.\n",
    "\n",
    "Dans un contexte réel, certaines ventes non rentables peuvent être des décisions d’affaires stratégiques (fidélisation, liquidation de stock, pénétration de marché). Cependant, dans le cadre de ce mandat, je fais l’hypothèse simplificatrice que ces transactions sont indésirables et qu’il est pertinent de les identifier afin de maximiser la profitabilité globale."
   ]
  },
  {
   "cell_type": "code",
   "execution_count": 3,
   "id": "6c464864-6d28-4244-95da-6d7d56f00854",
   "metadata": {},
   "outputs": [
    {
     "name": "stdout",
     "output_type": "stream",
     "text": [
      "Colonnes supprimées : ['Country', 'Category', 'Row ID', 'Order ID', 'Quantity', 'Customer Name', 'Product Name', 'Postal Code']\n"
     ]
    }
   ],
   "source": [
    "# Supprimer les colonnes non pertinentes ou sujettes au data leakage\n",
    "cols_to_drop = [\n",
    "    \"Country\",        # constant\n",
    "    \"Category\",       # constant\n",
    "    \"Row ID\",         # inutile\n",
    "    \"Order ID\",       # inutile\n",
    "    \"Quantity\",       # risque de data leakage\n",
    "    \"Customer Name\",  # redondant avec customer ID\n",
    "    \"Product Name\",   # redondant avec Product ID\n",
    "    \"Postal Code\"     # trop granulaire\n",
    "]\n",
    "\n",
    "print(\"Colonnes supprimées :\", cols_to_drop)\n",
    "\n",
    "df = df.drop(columns=cols_to_drop)"
   ]
  },
  {
   "cell_type": "code",
   "execution_count": 4,
   "id": "86055fb8-be17-4fe0-8f94-77714e2e3cdf",
   "metadata": {},
   "outputs": [
    {
     "data": {
      "image/png": "[encoded data removed]",
      "text/plain": [
       "<Figure size 800x500 with 1 Axes>"
      ]
     },
     "metadata": {},
     "output_type": "display_data"
    },
    {
     "name": "stdout",
     "output_type": "stream",
     "text": [
      "is_profitable\n",
      "1    0.647808\n",
      "0    0.352192\n",
      "Name: proportion, dtype: float64\n"
     ]
    },
    {
     "data": {
      "image/png": "[encoded data removed]",
      "text/plain": [
       "<Figure size 640x480 with 1 Axes>"
      ]
     },
     "metadata": {},
     "output_type": "display_data"
    }
   ],
   "source": [
    "# Distribution des profits\n",
    "plt.figure(figsize=(8,5))\n",
    "sns.histplot(df['Profit'], bins=50, kde=True)\n",
    "plt.title(\"Distribution des profits\")\n",
    "plt.xlabel(\"Profit\")\n",
    "plt.ylabel(\"Fréquence\")\n",
    "plt.show()\n",
    "\n",
    "# Répartition ventes profitables vs non profitables\n",
    "df['is_profitable'] = (df['Profit'] > 0).astype(int)\n",
    "print(df['is_profitable'].value_counts(normalize=True))\n",
    "\n",
    "sns.countplot(x='is_profitable', data=df)\n",
    "plt.title(\"Proportion de ventes profitables vs non profitables\")\n",
    "plt.xlabel(\"is_profitable (0 = perte, 1 = profit)\")\n",
    "plt.ylabel(\"Nombre de transactions\")\n",
    "plt.show()"
   ]
  },
  {
   "cell_type": "markdown",
   "id": "278b6cee-0f84-4be0-bf76-dc6d16fefcda",
   "metadata": {},
   "source": [
    "### Constat\n",
    "\n",
    "- Plusieurs ventes ne génèrent pas de profit. Je choisis de prédire d’abord la profitabilité car des ventes non profitables sont non souhaitables. Ensuite, sur les ventes profitables uniquement, je vais prévoir leur montant.\n",
    "\n",
    "### Décision d'orientation\n",
    "- Je vais donc opter pour un modèle en deux étapes:\n",
    "    - Classification: Pour prédire la profitabilité d'une commande\n",
    "    - Régression conditionnelle: Pour prédire le montant des ventes seulement pour les transactions profitables\n",
    "\n",
    "### Prochaines étapes\n",
    "\n",
    "- Produire un rapport EDA exhaustif pour explorer les distributions, corrélations et valeurs manquantes.\n",
    "- Produire la distribution générale des ventes.\n",
    "- Vérifier la saisonnalité des données."
   ]
  },
  {
   "cell_type": "code",
   "execution_count": 5,
   "id": "3110c366-4ffa-4873-bcf2-e1a4a1f6844c",
   "metadata": {
    "scrolled": true
   },
   "outputs": [
    {
     "name": "stderr",
     "output_type": "stream",
     "text": [
      "Summarize dataset:  68%|██████████████████████████████████████████████████████                         | 13/19 [00:00<00:00, 39.93it/s, Describe variable: is_profitable]\n",
      "100%|████████████████████████████████████████████████████████████████████████████████████████████████████████████████████████████████| 14/14 [00:00<00:00, 310689.19it/s]\u001b[A\n",
      "Summarize dataset: 100%|██████████████████████████████████████████████████████████████████████████████████████████████████████| 32/32 [00:01<00:00, 16.15it/s, Completed]\n",
      "Generate report structure: 100%|███████████████████████████████████████████████████████████████████████████████████████████████████████████| 1/1 [00:05<00:00,  5.08s/it]\n",
      "Render HTML: 100%|█████████████████████████████████████████████████████████████████████████████████████████████████████████████████████████| 1/1 [00:00<00:00,  3.53it/s]\n",
      "Export report to file: 100%|██████████████████████████████████████████████████████████████████████████████████████████████████████████████| 1/1 [00:00<00:00, 259.13it/s]\n"
     ]
    },
    {
     "name": "stdout",
     "output_type": "stream",
     "text": [
      "✅ Rapport complet généré : ../reports/eda_report.html\n"
     ]
    },
    {
     "data": {
      "image/png": "[encoded data removed]",
      "text/plain": [
       "<Figure size 800x500 with 1 Axes>"
      ]
     },
     "metadata": {},
     "output_type": "display_data"
    },
    {
     "data": {
      "application/vnd.plotly.v1+json": {
       "config": {
        "plotlyServerURL": "https://plot.ly"
       },
       "data": [
        {
         "hovertemplate": "Order Date=%{x}<br>Sales=%{y}<extra></extra>",
         "legendgroup": "",
         "line": {
          "color": "#636efa",
          "dash": "solid"
         },
         "marker": {
          "symbol": "circle"
         },
         "mode": "lines",
         "name": "",
         "orientation": "v",
         "showlegend": false,
         "type": "scatter",
         "x": [
          "2014-01-06T00:00:00.000000000",
          "2014-01-07T00:00:00.000000000",
          "2014-01-10T00:00:00.000000000",
          "2014-01-11T00:00:00.000000000",
          "2014-01-13T00:00:00.000000000",
          "2014-01-14T00:00:00.000000000",
          "2014-01-16T00:00:00.000000000",
          "2014-01-19T00:00:00.000000000",
          "2014-01-20T00:00:00.000000000",
          "2014-01-21T00:00:00.000000000",
          "2014-01-26T00:00:00.000000000",
          "2014-01-27T00:00:00.000000000",
          "2014-01-31T00:00:00.000000000",
          "2014-02-08T00:00:00.000000000",
          "2014-02-11T00:00:00.000000000",
          "2014-02-12T00:00:00.000000000",
          "2014-02-18T00:00:00.000000000",
          "2014-02-20T00:00:00.000000000",
          "2014-03-01T00:00:00.000000000",
          "2014-03-03T00:00:00.000000000",
          "2014-03-07T00:00:00.000000000",
          "2014-03-11T00:00:00.000000000",
          "2014-03-14T00:00:00.000000000",
          "2014-03-15T00:00:00.000000000",
          "2014-03-17T00:00:00.000000000",
          "2014-03-18T00:00:00.000000000",
          "2014-03-19T00:00:00.000000000",
          "2014-03-21T00:00:00.000000000",
          "2014-03-22T00:00:00.000000000",
          "2014-03-24T00:00:00.000000000",
          "2014-03-25T00:00:00.000000000",
          "2014-03-28T00:00:00.000000000",
          "2014-03-29T00:00:00.000000000",
          "2014-03-30T00:00:00.000000000",
          "2014-03-31T00:00:00.000000000",
          "2014-04-02T00:00:00.000000000",
          "2014-04-04T00:00:00.000000000",
          "2014-04-06T00:00:00.000000000",
          "2014-04-07T00:00:00.000000000",
          "2014-04-08T00:00:00.000000000",
          "2014-04-12T00:00:00.000000000",
          "2014-04-15T00:00:00.000000000",
          "2014-04-18T00:00:00.000000000",
          "2014-04-19T00:00:00.000000000",
          "2014-04-20T00:00:00.000000000",
          "2014-04-23T00:00:00.000000000",
          "2014-04-25T00:00:00.000000000",
          "2014-04-26T00:00:00.000000000",
          "2014-04-29T00:00:00.000000000",
          "2014-05-04T00:00:00.000000000",
          "2014-05-05T00:00:00.000000000",
          "2014-05-07T00:00:00.000000000",
          "2014-05-10T00:00:00.000000000",
          "2014-05-11T00:00:00.000000000",
          "2014-05-12T00:00:00.000000000",
          "2014-05-13T00:00:00.000000000",
          "2014-05-14T00:00:00.000000000",
          "2014-05-16T00:00:00.000000000",
          "2014-05-18T00:00:00.000000000",
          "2014-05-20T00:00:00.000000000",
          "2014-05-21T00:00:00.000000000",
          "2014-05-25T00:00:00.000000000",
          "2014-05-26T00:00:00.000000000",
          "2014-05-27T00:00:00.000000000",
          "2014-05-30T00:00:00.000000000",
          "2014-06-01T00:00:00.000000000",
          "2014-06-02T00:00:00.000000000",
          "2014-06-03T00:00:00.000000000",
          "2014-06-04T00:00:00.000000000",
          "2014-06-06T00:00:00.000000000",
          "2014-06-07T00:00:00.000000000",
          "2014-06-08T00:00:00.000000000",
          "2014-06-09T00:00:00.000000000",
          "2014-06-14T00:00:00.000000000",
          "2014-06-15T00:00:00.000000000",
          "2014-06-16T00:00:00.000000000",
          "2014-06-17T00:00:00.000000000",
          "2014-06-20T00:00:00.000000000",
          "2014-06-21T00:00:00.000000000",
          "2014-06-22T00:00:00.000000000",
          "2014-06-24T00:00:00.000000000",
          "2014-06-25T00:00:00.000000000",
          "2014-06-27T00:00:00.000000000",
          "2014-06-28T00:00:00.000000000",
          "2014-07-05T00:00:00.000000000",
          "2014-07-06T00:00:00.000000000",
          "2014-07-07T00:00:00.000000000",
          "2014-07-08T00:00:00.000000000",
          "2014-07-09T00:00:00.000000000",
          "2014-07-11T00:00:00.000000000",
          "2014-07-12T00:00:00.000000000",
          "2014-07-13T00:00:00.000000000",
          "2014-07-14T00:00:00.000000000",
          "2014-07-18T00:00:00.000000000",
          "2014-07-19T00:00:00.000000000",
          "2014-07-20T00:00:00.000000000",
          "2014-07-21T00:00:00.000000000",
          "2014-07-22T00:00:00.000000000",
          "2014-07-25T00:00:00.000000000",
          "2014-07-26T00:00:00.000000000",
          "2014-07-28T00:00:00.000000000",
          "2014-07-30T00:00:00.000000000",
          "2014-08-01T00:00:00.000000000",
          "2014-08-03T00:00:00.000000000",
          "2014-08-05T00:00:00.000000000",
          "2014-08-08T00:00:00.000000000",
          "2014-08-11T00:00:00.000000000",
          "2014-08-12T00:00:00.000000000",
          "2014-08-15T00:00:00.000000000",
          "2014-08-16T00:00:00.000000000",
          "2014-08-19T00:00:00.000000000",
          "2014-08-20T00:00:00.000000000",
          "2014-08-23T00:00:00.000000000",
          "2014-08-24T00:00:00.000000000",
          "2014-08-25T00:00:00.000000000",
          "2014-08-26T00:00:00.000000000",
          "2014-08-27T00:00:00.000000000",
          "2014-08-29T00:00:00.000000000",
          "2014-09-02T00:00:00.000000000",
          "2014-09-05T00:00:00.000000000",
          "2014-09-06T00:00:00.000000000",
          "2014-09-07T00:00:00.000000000",
          "2014-09-08T00:00:00.000000000",
          "2014-09-09T00:00:00.000000000",
          "2014-09-10T00:00:00.000000000",
          "2014-09-11T00:00:00.000000000",
          "2014-09-12T00:00:00.000000000",
          "2014-09-13T00:00:00.000000000",
          "2014-09-14T00:00:00.000000000",
          "2014-09-15T00:00:00.000000000",
          "2014-09-17T00:00:00.000000000",
          "2014-09-19T00:00:00.000000000",
          "2014-09-20T00:00:00.000000000",
          "2014-09-21T00:00:00.000000000",
          "2014-09-22T00:00:00.000000000",
          "2014-09-23T00:00:00.000000000",
          "2014-09-25T00:00:00.000000000",
          "2014-09-26T00:00:00.000000000",
          "2014-09-27T00:00:00.000000000",
          "2014-09-28T00:00:00.000000000",
          "2014-09-29T00:00:00.000000000",
          "2014-09-30T00:00:00.000000000",
          "2014-10-03T00:00:00.000000000",
          "2014-10-04T00:00:00.000000000",
          "2014-10-07T00:00:00.000000000",
          "2014-10-10T00:00:00.000000000",
          "2014-10-11T00:00:00.000000000",
          "2014-10-13T00:00:00.000000000",
          "2014-10-14T00:00:00.000000000",
          "2014-10-15T00:00:00.000000000",
          "2014-10-17T00:00:00.000000000",
          "2014-10-18T00:00:00.000000000",
          "2014-10-20T00:00:00.000000000",
          "2014-10-21T00:00:00.000000000",
          "2014-10-22T00:00:00.000000000",
          "2014-10-26T00:00:00.000000000",
          "2014-10-28T00:00:00.000000000",
          "2014-10-31T00:00:00.000000000",
          "2014-11-01T00:00:00.000000000",
          "2014-11-02T00:00:00.000000000",
          "2014-11-03T00:00:00.000000000",
          "2014-11-04T00:00:00.000000000",
          "2014-11-05T00:00:00.000000000",
          "2014-11-07T00:00:00.000000000",
          "2014-11-09T00:00:00.000000000",
          "2014-11-10T00:00:00.000000000",
          "2014-11-11T00:00:00.000000000",
          "2014-11-12T00:00:00.000000000",
          "2014-11-14T00:00:00.000000000",
          "2014-11-15T00:00:00.000000000",
          "2014-11-16T00:00:00.000000000",
          "2014-11-17T00:00:00.000000000",
          "2014-11-18T00:00:00.000000000",
          "2014-11-19T00:00:00.000000000",
          "2014-11-23T00:00:00.000000000",
          "2014-11-24T00:00:00.000000000",
          "2014-11-25T00:00:00.000000000",
          "2014-11-26T00:00:00.000000000",
          "2014-11-27T00:00:00.000000000",
          "2014-11-28T00:00:00.000000000",
          "2014-12-01T00:00:00.000000000",
          "2014-12-02T00:00:00.000000000",
          "2014-12-06T00:00:00.000000000",
          "2014-12-08T00:00:00.000000000",
          "2014-12-10T00:00:00.000000000",
          "2014-12-12T00:00:00.000000000",
          "2014-12-13T00:00:00.000000000",
          "2014-12-14T00:00:00.000000000",
          "2014-12-15T00:00:00.000000000",
          "2014-12-16T00:00:00.000000000",
          "2014-12-19T00:00:00.000000000",
          "2014-12-20T00:00:00.000000000",
          "2014-12-21T00:00:00.000000000",
          "2014-12-23T00:00:00.000000000",
          "2014-12-24T00:00:00.000000000",
          "2014-12-26T00:00:00.000000000",
          "2014-12-27T00:00:00.000000000",
          "2014-12-29T00:00:00.000000000",
          "2014-12-30T00:00:00.000000000",
          "2014-12-31T00:00:00.000000000",
          "2015-01-02T00:00:00.000000000",
          "2015-01-03T00:00:00.000000000",
          "2015-01-04T00:00:00.000000000",
          "2015-01-05T00:00:00.000000000",
          "2015-01-10T00:00:00.000000000",
          "2015-01-13T00:00:00.000000000",
          "2015-01-17T00:00:00.000000000",
          "2015-01-19T00:00:00.000000000",
          "2015-01-27T00:00:00.000000000",
          "2015-01-28T00:00:00.000000000",
          "2015-01-30T00:00:00.000000000",
          "2015-01-31T00:00:00.000000000",
          "2015-02-03T00:00:00.000000000",
          "2015-02-06T00:00:00.000000000",
          "2015-02-09T00:00:00.000000000",
          "2015-02-18T00:00:00.000000000",
          "2015-02-27T00:00:00.000000000",
          "2015-02-28T00:00:00.000000000",
          "2015-03-01T00:00:00.000000000",
          "2015-03-02T00:00:00.000000000",
          "2015-03-05T00:00:00.000000000",
          "2015-03-06T00:00:00.000000000",
          "2015-03-08T00:00:00.000000000",
          "2015-03-12T00:00:00.000000000",
          "2015-03-13T00:00:00.000000000",
          "2015-03-16T00:00:00.000000000",
          "2015-03-19T00:00:00.000000000",
          "2015-03-22T00:00:00.000000000",
          "2015-03-23T00:00:00.000000000",
          "2015-03-24T00:00:00.000000000",
          "2015-03-26T00:00:00.000000000",
          "2015-03-29T00:00:00.000000000",
          "2015-03-30T00:00:00.000000000",
          "2015-03-31T00:00:00.000000000",
          "2015-04-04T00:00:00.000000000",
          "2015-04-05T00:00:00.000000000",
          "2015-04-09T00:00:00.000000000",
          "2015-04-11T00:00:00.000000000",
          "2015-04-13T00:00:00.000000000",
          "2015-04-16T00:00:00.000000000",
          "2015-04-18T00:00:00.000000000",
          "2015-04-20T00:00:00.000000000",
          "2015-04-21T00:00:00.000000000",
          "2015-04-25T00:00:00.000000000",
          "2015-04-26T00:00:00.000000000",
          "2015-04-27T00:00:00.000000000",
          "2015-04-30T00:00:00.000000000",
          "2015-05-01T00:00:00.000000000",
          "2015-05-03T00:00:00.000000000",
          "2015-05-04T00:00:00.000000000",
          "2015-05-07T00:00:00.000000000",
          "2015-05-08T00:00:00.000000000",
          "2015-05-11T00:00:00.000000000",
          "2015-05-12T00:00:00.000000000",
          "2015-05-14T00:00:00.000000000",
          "2015-05-20T00:00:00.000000000",
          "2015-05-23T00:00:00.000000000",
          "2015-05-24T00:00:00.000000000",
          "2015-05-25T00:00:00.000000000",
          "2015-05-26T00:00:00.000000000",
          "2015-05-29T00:00:00.000000000",
          "2015-05-31T00:00:00.000000000",
          "2015-06-04T00:00:00.000000000",
          "2015-06-05T00:00:00.000000000",
          "2015-06-08T00:00:00.000000000",
          "2015-06-09T00:00:00.000000000",
          "2015-06-11T00:00:00.000000000",
          "2015-06-12T00:00:00.000000000",
          "2015-06-14T00:00:00.000000000",
          "2015-06-15T00:00:00.000000000",
          "2015-06-16T00:00:00.000000000",
          "2015-06-18T00:00:00.000000000",
          "2015-06-19T00:00:00.000000000",
          "2015-06-20T00:00:00.000000000",
          "2015-06-22T00:00:00.000000000",
          "2015-06-23T00:00:00.000000000",
          "2015-06-25T00:00:00.000000000",
          "2015-06-26T00:00:00.000000000",
          "2015-06-28T00:00:00.000000000",
          "2015-06-29T00:00:00.000000000",
          "2015-07-02T00:00:00.000000000",
          "2015-07-03T00:00:00.000000000",
          "2015-07-05T00:00:00.000000000",
          "2015-07-06T00:00:00.000000000",
          "2015-07-09T00:00:00.000000000",
          "2015-07-11T00:00:00.000000000",
          "2015-07-12T00:00:00.000000000",
          "2015-07-13T00:00:00.000000000",
          "2015-07-14T00:00:00.000000000",
          "2015-07-16T00:00:00.000000000",
          "2015-07-17T00:00:00.000000000",
          "2015-07-18T00:00:00.000000000",
          "2015-07-20T00:00:00.000000000",
          "2015-07-23T00:00:00.000000000",
          "2015-07-24T00:00:00.000000000",
          "2015-07-25T00:00:00.000000000",
          "2015-07-26T00:00:00.000000000",
          "2015-07-30T00:00:00.000000000",
          "2015-07-31T00:00:00.000000000",
          "2015-08-01T00:00:00.000000000",
          "2015-08-02T00:00:00.000000000",
          "2015-08-05T00:00:00.000000000",
          "2015-08-06T00:00:00.000000000",
          "2015-08-07T00:00:00.000000000",
          "2015-08-08T00:00:00.000000000",
          "2015-08-09T00:00:00.000000000",
          "2015-08-11T00:00:00.000000000",
          "2015-08-13T00:00:00.000000000",
          "2015-08-15T00:00:00.000000000",
          "2015-08-16T00:00:00.000000000",
          "2015-08-21T00:00:00.000000000",
          "2015-08-24T00:00:00.000000000",
          "2015-08-25T00:00:00.000000000",
          "2015-08-28T00:00:00.000000000",
          "2015-08-31T00:00:00.000000000",
          "2015-09-01T00:00:00.000000000",
          "2015-09-03T00:00:00.000000000",
          "2015-09-05T00:00:00.000000000",
          "2015-09-06T00:00:00.000000000",
          "2015-09-07T00:00:00.000000000",
          "2015-09-08T00:00:00.000000000",
          "2015-09-10T00:00:00.000000000",
          "2015-09-11T00:00:00.000000000",
          "2015-09-13T00:00:00.000000000",
          "2015-09-14T00:00:00.000000000",
          "2015-09-15T00:00:00.000000000",
          "2015-09-17T00:00:00.000000000",
          "2015-09-18T00:00:00.000000000",
          "2015-09-19T00:00:00.000000000",
          "2015-09-21T00:00:00.000000000",
          "2015-09-22T00:00:00.000000000",
          "2015-09-24T00:00:00.000000000",
          "2015-09-25T00:00:00.000000000",
          "2015-09-27T00:00:00.000000000",
          "2015-10-02T00:00:00.000000000",
          "2015-10-03T00:00:00.000000000",
          "2015-10-04T00:00:00.000000000",
          "2015-10-05T00:00:00.000000000",
          "2015-10-08T00:00:00.000000000",
          "2015-10-09T00:00:00.000000000",
          "2015-10-10T00:00:00.000000000",
          "2015-10-11T00:00:00.000000000",
          "2015-10-12T00:00:00.000000000",
          "2015-10-13T00:00:00.000000000",
          "2015-10-15T00:00:00.000000000",
          "2015-10-18T00:00:00.000000000",
          "2015-10-20T00:00:00.000000000",
          "2015-10-23T00:00:00.000000000",
          "2015-10-24T00:00:00.000000000",
          "2015-10-25T00:00:00.000000000",
          "2015-10-28T00:00:00.000000000",
          "2015-10-30T00:00:00.000000000",
          "2015-10-31T00:00:00.000000000",
          "2015-11-01T00:00:00.000000000",
          "2015-11-02T00:00:00.000000000",
          "2015-11-03T00:00:00.000000000",
          "2015-11-05T00:00:00.000000000",
          "2015-11-07T00:00:00.000000000",
          "2015-11-08T00:00:00.000000000",
          "2015-11-09T00:00:00.000000000",
          "2015-11-10T00:00:00.000000000",
          "2015-11-12T00:00:00.000000000",
          "2015-11-13T00:00:00.000000000",
          "2015-11-14T00:00:00.000000000",
          "2015-11-15T00:00:00.000000000",
          "2015-11-16T00:00:00.000000000",
          "2015-11-17T00:00:00.000000000",
          "2015-11-19T00:00:00.000000000",
          "2015-11-20T00:00:00.000000000",
          "2015-11-21T00:00:00.000000000",
          "2015-11-22T00:00:00.000000000",
          "2015-11-24T00:00:00.000000000",
          "2015-11-26T00:00:00.000000000",
          "2015-11-27T00:00:00.000000000",
          "2015-11-28T00:00:00.000000000",
          "2015-11-29T00:00:00.000000000",
          "2015-11-30T00:00:00.000000000",
          "2015-12-01T00:00:00.000000000",
          "2015-12-03T00:00:00.000000000",
          "2015-12-04T00:00:00.000000000",
          "2015-12-05T00:00:00.000000000",
          "2015-12-06T00:00:00.000000000",
          "2015-12-07T00:00:00.000000000",
          "2015-12-10T00:00:00.000000000",
          "2015-12-11T00:00:00.000000000",
          "2015-12-12T00:00:00.000000000",
          "2015-12-14T00:00:00.000000000",
          "2015-12-15T00:00:00.000000000",
          "2015-12-17T00:00:00.000000000",
          "2015-12-18T00:00:00.000000000",
          "2015-12-19T00:00:00.000000000",
          "2015-12-20T00:00:00.000000000",
          "2015-12-21T00:00:00.000000000",
          "2015-12-22T00:00:00.000000000",
          "2015-12-24T00:00:00.000000000",
          "2015-12-25T00:00:00.000000000",
          "2015-12-26T00:00:00.000000000",
          "2015-12-27T00:00:00.000000000",
          "2015-12-31T00:00:00.000000000",
          "2016-01-02T00:00:00.000000000",
          "2016-01-03T00:00:00.000000000",
          "2016-01-07T00:00:00.000000000",
          "2016-01-08T00:00:00.000000000",
          "2016-01-09T00:00:00.000000000",
          "2016-01-10T00:00:00.000000000",
          "2016-01-11T00:00:00.000000000",
          "2016-01-14T00:00:00.000000000",
          "2016-01-15T00:00:00.000000000",
          "2016-01-17T00:00:00.000000000",
          "2016-01-21T00:00:00.000000000",
          "2016-01-22T00:00:00.000000000",
          "2016-01-23T00:00:00.000000000",
          "2016-01-25T00:00:00.000000000",
          "2016-01-30T00:00:00.000000000",
          "2016-02-02T00:00:00.000000000",
          "2016-02-03T00:00:00.000000000",
          "2016-02-04T00:00:00.000000000",
          "2016-02-05T00:00:00.000000000",
          "2016-02-06T00:00:00.000000000",
          "2016-02-08T00:00:00.000000000",
          "2016-02-14T00:00:00.000000000",
          "2016-02-16T00:00:00.000000000",
          "2016-02-19T00:00:00.000000000",
          "2016-02-21T00:00:00.000000000",
          "2016-02-27T00:00:00.000000000",
          "2016-03-01T00:00:00.000000000",
          "2016-03-03T00:00:00.000000000",
          "2016-03-06T00:00:00.000000000",
          "2016-03-08T00:00:00.000000000",
          "2016-03-09T00:00:00.000000000",
          "2016-03-10T00:00:00.000000000",
          "2016-03-11T00:00:00.000000000",
          "2016-03-12T00:00:00.000000000",
          "2016-03-13T00:00:00.000000000",
          "2016-03-14T00:00:00.000000000",
          "2016-03-15T00:00:00.000000000",
          "2016-03-17T00:00:00.000000000",
          "2016-03-18T00:00:00.000000000",
          "2016-03-19T00:00:00.000000000",
          "2016-03-20T00:00:00.000000000",
          "2016-03-21T00:00:00.000000000",
          "2016-03-22T00:00:00.000000000",
          "2016-03-24T00:00:00.000000000",
          "2016-03-27T00:00:00.000000000",
          "2016-03-29T00:00:00.000000000",
          "2016-03-31T00:00:00.000000000",
          "2016-04-01T00:00:00.000000000",
          "2016-04-02T00:00:00.000000000",
          "2016-04-03T00:00:00.000000000",
          "2016-04-04T00:00:00.000000000",
          "2016-04-07T00:00:00.000000000",
          "2016-04-08T00:00:00.000000000",
          "2016-04-09T00:00:00.000000000",
          "2016-04-12T00:00:00.000000000",
          "2016-04-14T00:00:00.000000000",
          "2016-04-15T00:00:00.000000000",
          "2016-04-16T00:00:00.000000000",
          "2016-04-17T00:00:00.000000000",
          "2016-04-18T00:00:00.000000000",
          "2016-04-19T00:00:00.000000000",
          "2016-04-22T00:00:00.000000000",
          "2016-04-24T00:00:00.000000000",
          "2016-04-26T00:00:00.000000000",
          "2016-04-28T00:00:00.000000000",
          "2016-04-30T00:00:00.000000000",
          "2016-05-01T00:00:00.000000000",
          "2016-05-02T00:00:00.000000000",
          "2016-05-03T00:00:00.000000000",
          "2016-05-05T00:00:00.000000000",
          "2016-05-06T00:00:00.000000000",
          "2016-05-07T00:00:00.000000000",
          "2016-05-08T00:00:00.000000000",
          "2016-05-12T00:00:00.000000000",
          "2016-05-14T00:00:00.000000000",
          "2016-05-16T00:00:00.000000000",
          "2016-05-17T00:00:00.000000000",
          "2016-05-19T00:00:00.000000000",
          "2016-05-20T00:00:00.000000000",
          "2016-05-22T00:00:00.000000000",
          "2016-05-23T00:00:00.000000000",
          "2016-05-25T00:00:00.000000000",
          "2016-05-26T00:00:00.000000000",
          "2016-05-27T00:00:00.000000000",
          "2016-05-28T00:00:00.000000000",
          "2016-05-29T00:00:00.000000000",
          "2016-05-30T00:00:00.000000000",
          "2016-05-31T00:00:00.000000000",
          "2016-06-03T00:00:00.000000000",
          "2016-06-04T00:00:00.000000000",
          "2016-06-06T00:00:00.000000000",
          "2016-06-09T00:00:00.000000000",
          "2016-06-10T00:00:00.000000000",
          "2016-06-11T00:00:00.000000000",
          "2016-06-12T00:00:00.000000000",
          "2016-06-14T00:00:00.000000000",
          "2016-06-17T00:00:00.000000000",
          "2016-06-20T00:00:00.000000000",
          "2016-06-21T00:00:00.000000000",
          "2016-06-25T00:00:00.000000000",
          "2016-06-26T00:00:00.000000000",
          "2016-06-27T00:00:00.000000000",
          "2016-06-28T00:00:00.000000000",
          "2016-06-30T00:00:00.000000000",
          "2016-07-02T00:00:00.000000000",
          "2016-07-04T00:00:00.000000000",
          "2016-07-07T00:00:00.000000000",
          "2016-07-08T00:00:00.000000000",
          "2016-07-09T00:00:00.000000000",
          "2016-07-14T00:00:00.000000000",
          "2016-07-15T00:00:00.000000000",
          "2016-07-16T00:00:00.000000000",
          "2016-07-17T00:00:00.000000000",
          "2016-07-18T00:00:00.000000000",
          "2016-07-19T00:00:00.000000000",
          "2016-07-21T00:00:00.000000000",
          "2016-07-22T00:00:00.000000000",
          "2016-07-24T00:00:00.000000000",
          "2016-07-25T00:00:00.000000000",
          "2016-07-28T00:00:00.000000000",
          "2016-07-31T00:00:00.000000000",
          "2016-08-01T00:00:00.000000000",
          "2016-08-02T00:00:00.000000000",
          "2016-08-04T00:00:00.000000000",
          "2016-08-08T00:00:00.000000000",
          "2016-08-12T00:00:00.000000000",
          "2016-08-13T00:00:00.000000000",
          "2016-08-15T00:00:00.000000000",
          "2016-08-16T00:00:00.000000000",
          "2016-08-18T00:00:00.000000000",
          "2016-08-21T00:00:00.000000000",
          "2016-08-22T00:00:00.000000000",
          "2016-08-23T00:00:00.000000000",
          "2016-08-26T00:00:00.000000000",
          "2016-08-27T00:00:00.000000000",
          "2016-08-28T00:00:00.000000000",
          "2016-08-29T00:00:00.000000000",
          "2016-08-30T00:00:00.000000000",
          "2016-09-01T00:00:00.000000000",
          "2016-09-02T00:00:00.000000000",
          "2016-09-03T00:00:00.000000000",
          "2016-09-04T00:00:00.000000000",
          "2016-09-05T00:00:00.000000000",
          "2016-09-06T00:00:00.000000000",
          "2016-09-08T00:00:00.000000000",
          "2016-09-09T00:00:00.000000000",
          "2016-09-10T00:00:00.000000000",
          "2016-09-12T00:00:00.000000000",
          "2016-09-13T00:00:00.000000000",
          "2016-09-15T00:00:00.000000000",
          "2016-09-16T00:00:00.000000000",
          "2016-09-17T00:00:00.000000000",
          "2016-09-18T00:00:00.000000000",
          "2016-09-19T00:00:00.000000000",
          "2016-09-20T00:00:00.000000000",
          "2016-09-22T00:00:00.000000000",
          "2016-09-23T00:00:00.000000000",
          "2016-09-24T00:00:00.000000000",
          "2016-09-25T00:00:00.000000000",
          "2016-09-26T00:00:00.000000000",
          "2016-09-27T00:00:00.000000000",
          "2016-09-30T00:00:00.000000000",
          "2016-10-01T00:00:00.000000000",
          "2016-10-03T00:00:00.000000000",
          "2016-10-04T00:00:00.000000000",
          "2016-10-08T00:00:00.000000000",
          "2016-10-09T00:00:00.000000000",
          "2016-10-10T00:00:00.000000000",
          "2016-10-13T00:00:00.000000000",
          "2016-10-14T00:00:00.000000000",
          "2016-10-16T00:00:00.000000000",
          "2016-10-17T00:00:00.000000000",
          "2016-10-18T00:00:00.000000000",
          "2016-10-20T00:00:00.000000000",
          "2016-10-21T00:00:00.000000000",
          "2016-10-22T00:00:00.000000000",
          "2016-10-23T00:00:00.000000000",
          "2016-10-27T00:00:00.000000000",
          "2016-10-28T00:00:00.000000000",
          "2016-10-29T00:00:00.000000000",
          "2016-10-31T00:00:00.000000000",
          "2016-11-03T00:00:00.000000000",
          "2016-11-04T00:00:00.000000000",
          "2016-11-05T00:00:00.000000000",
          "2016-11-06T00:00:00.000000000",
          "2016-11-07T00:00:00.000000000",
          "2016-11-08T00:00:00.000000000",
          "2016-11-10T00:00:00.000000000",
          "2016-11-11T00:00:00.000000000",
          "2016-11-12T00:00:00.000000000",
          "2016-11-13T00:00:00.000000000",
          "2016-11-14T00:00:00.000000000",
          "2016-11-15T00:00:00.000000000",
          "2016-11-18T00:00:00.000000000",
          "2016-11-19T00:00:00.000000000",
          "2016-11-20T00:00:00.000000000",
          "2016-11-21T00:00:00.000000000",
          "2016-11-22T00:00:00.000000000",
          "2016-11-23T00:00:00.000000000",
          "2016-11-24T00:00:00.000000000",
          "2016-11-25T00:00:00.000000000",
          "2016-11-26T00:00:00.000000000",
          "2016-11-27T00:00:00.000000000",
          "2016-11-28T00:00:00.000000000",
          "2016-11-29T00:00:00.000000000",
          "2016-11-30T00:00:00.000000000",
          "2016-12-01T00:00:00.000000000",
          "2016-12-02T00:00:00.000000000",
          "2016-12-03T00:00:00.000000000",
          "2016-12-04T00:00:00.000000000",
          "2016-12-05T00:00:00.000000000",
          "2016-12-08T00:00:00.000000000",
          "2016-12-09T00:00:00.000000000",
          "2016-12-10T00:00:00.000000000",
          "2016-12-11T00:00:00.000000000",
          "2016-12-12T00:00:00.000000000",
          "2016-12-13T00:00:00.000000000",
          "2016-12-14T00:00:00.000000000",
          "2016-12-15T00:00:00.000000000",
          "2016-12-16T00:00:00.000000000",
          "2016-12-17T00:00:00.000000000",
          "2016-12-18T00:00:00.000000000",
          "2016-12-19T00:00:00.000000000",
          "2016-12-20T00:00:00.000000000",
          "2016-12-22T00:00:00.000000000",
          "2016-12-23T00:00:00.000000000",
          "2016-12-24T00:00:00.000000000",
          "2016-12-25T00:00:00.000000000",
          "2016-12-26T00:00:00.000000000",
          "2016-12-27T00:00:00.000000000",
          "2016-12-29T00:00:00.000000000",
          "2016-12-30T00:00:00.000000000",
          "2017-01-01T00:00:00.000000000",
          "2017-01-02T00:00:00.000000000",
          "2017-01-08T00:00:00.000000000",
          "2017-01-12T00:00:00.000000000",
          "2017-01-13T00:00:00.000000000",
          "2017-01-14T00:00:00.000000000",
          "2017-01-16T00:00:00.000000000",
          "2017-01-19T00:00:00.000000000",
          "2017-01-20T00:00:00.000000000",
          "2017-01-21T00:00:00.000000000",
          "2017-01-23T00:00:00.000000000",
          "2017-01-26T00:00:00.000000000",
          "2017-01-28T00:00:00.000000000",
          "2017-01-29T00:00:00.000000000",
          "2017-01-30T00:00:00.000000000",
          "2017-02-02T00:00:00.000000000",
          "2017-02-03T00:00:00.000000000",
          "2017-02-06T00:00:00.000000000",
          "2017-02-09T00:00:00.000000000",
          "2017-02-10T00:00:00.000000000",
          "2017-02-11T00:00:00.000000000",
          "2017-02-13T00:00:00.000000000",
          "2017-02-16T00:00:00.000000000",
          "2017-02-17T00:00:00.000000000",
          "2017-02-19T00:00:00.000000000",
          "2017-02-20T00:00:00.000000000",
          "2017-02-25T00:00:00.000000000",
          "2017-02-26T00:00:00.000000000",
          "2017-03-02T00:00:00.000000000",
          "2017-03-03T00:00:00.000000000",
          "2017-03-04T00:00:00.000000000",
          "2017-03-06T00:00:00.000000000",
          "2017-03-10T00:00:00.000000000",
          "2017-03-11T00:00:00.000000000",
          "2017-03-13T00:00:00.000000000",
          "2017-03-16T00:00:00.000000000",
          "2017-03-18T00:00:00.000000000",
          "2017-03-19T00:00:00.000000000",
          "2017-03-20T00:00:00.000000000",
          "2017-03-21T00:00:00.000000000",
          "2017-03-23T00:00:00.000000000",
          "2017-03-24T00:00:00.000000000",
          "2017-03-25T00:00:00.000000000",
          "2017-03-26T00:00:00.000000000",
          "2017-03-27T00:00:00.000000000",
          "2017-03-28T00:00:00.000000000",
          "2017-03-30T00:00:00.000000000",
          "2017-03-31T00:00:00.000000000",
          "2017-04-01T00:00:00.000000000",
          "2017-04-02T00:00:00.000000000",
          "2017-04-03T00:00:00.000000000",
          "2017-04-07T00:00:00.000000000",
          "2017-04-08T00:00:00.000000000",
          "2017-04-10T00:00:00.000000000",
          "2017-04-13T00:00:00.000000000",
          "2017-04-14T00:00:00.000000000",
          "2017-04-15T00:00:00.000000000",
          "2017-04-16T00:00:00.000000000",
          "2017-04-17T00:00:00.000000000",
          "2017-04-20T00:00:00.000000000",
          "2017-04-21T00:00:00.000000000",
          "2017-04-22T00:00:00.000000000",
          "2017-04-23T00:00:00.000000000",
          "2017-04-25T00:00:00.000000000",
          "2017-04-26T00:00:00.000000000",
          "2017-04-27T00:00:00.000000000",
          "2017-04-29T00:00:00.000000000",
          "2017-04-30T00:00:00.000000000",
          "2017-05-01T00:00:00.000000000",
          "2017-05-02T00:00:00.000000000",
          "2017-05-03T00:00:00.000000000",
          "2017-05-04T00:00:00.000000000",
          "2017-05-05T00:00:00.000000000",
          "2017-05-06T00:00:00.000000000",
          "2017-05-07T00:00:00.000000000",
          "2017-05-08T00:00:00.000000000",
          "2017-05-09T00:00:00.000000000",
          "2017-05-11T00:00:00.000000000",
          "2017-05-12T00:00:00.000000000",
          "2017-05-13T00:00:00.000000000",
          "2017-05-14T00:00:00.000000000",
          "2017-05-15T00:00:00.000000000",
          "2017-05-18T00:00:00.000000000",
          "2017-05-19T00:00:00.000000000",
          "2017-05-20T00:00:00.000000000",
          "2017-05-21T00:00:00.000000000",
          "2017-05-22T00:00:00.000000000",
          "2017-05-23T00:00:00.000000000",
          "2017-05-25T00:00:00.000000000",
          "2017-05-27T00:00:00.000000000",
          "2017-05-28T00:00:00.000000000",
          "2017-05-29T00:00:00.000000000",
          "2017-05-30T00:00:00.000000000",
          "2017-06-01T00:00:00.000000000",
          "2017-06-03T00:00:00.000000000",
          "2017-06-04T00:00:00.000000000",
          "2017-06-06T00:00:00.000000000",
          "2017-06-08T00:00:00.000000000",
          "2017-06-09T00:00:00.000000000",
          "2017-06-10T00:00:00.000000000",
          "2017-06-11T00:00:00.000000000",
          "2017-06-12T00:00:00.000000000",
          "2017-06-13T00:00:00.000000000",
          "2017-06-15T00:00:00.000000000",
          "2017-06-16T00:00:00.000000000",
          "2017-06-17T00:00:00.000000000",
          "2017-06-18T00:00:00.000000000",
          "2017-06-19T00:00:00.000000000",
          "2017-06-21T00:00:00.000000000",
          "2017-06-22T00:00:00.000000000",
          "2017-06-24T00:00:00.000000000",
          "2017-06-25T00:00:00.000000000",
          "2017-06-26T00:00:00.000000000",
          "2017-06-27T00:00:00.000000000",
          "2017-06-29T00:00:00.000000000",
          "2017-06-30T00:00:00.000000000",
          "2017-07-03T00:00:00.000000000",
          "2017-07-05T00:00:00.000000000",
          "2017-07-06T00:00:00.000000000",
          "2017-07-07T00:00:00.000000000",
          "2017-07-08T00:00:00.000000000",
          "2017-07-09T00:00:00.000000000",
          "2017-07-10T00:00:00.000000000",
          "2017-07-13T00:00:00.000000000",
          "2017-07-14T00:00:00.000000000",
          "2017-07-15T00:00:00.000000000",
          "2017-07-16T00:00:00.000000000",
          "2017-07-17T00:00:00.000000000",
          "2017-07-18T00:00:00.000000000",
          "2017-07-20T00:00:00.000000000",
          "2017-07-21T00:00:00.000000000",
          "2017-07-22T00:00:00.000000000",
          "2017-07-25T00:00:00.000000000",
          "2017-07-26T00:00:00.000000000",
          "2017-07-27T00:00:00.000000000",
          "2017-07-29T00:00:00.000000000",
          "2017-07-31T00:00:00.000000000",
          "2017-08-03T00:00:00.000000000",
          "2017-08-06T00:00:00.000000000",
          "2017-08-07T00:00:00.000000000",
          "2017-08-10T00:00:00.000000000",
          "2017-08-12T00:00:00.000000000",
          "2017-08-13T00:00:00.000000000",
          "2017-08-14T00:00:00.000000000",
          "2017-08-17T00:00:00.000000000",
          "2017-08-18T00:00:00.000000000",
          "2017-08-21T00:00:00.000000000",
          "2017-08-22T00:00:00.000000000",
          "2017-08-23T00:00:00.000000000",
          "2017-08-25T00:00:00.000000000",
          "2017-08-26T00:00:00.000000000",
          "2017-08-27T00:00:00.000000000",
          "2017-08-28T00:00:00.000000000",
          "2017-08-29T00:00:00.000000000",
          "2017-08-31T00:00:00.000000000",
          "2017-09-01T00:00:00.000000000",
          "2017-09-02T00:00:00.000000000",
          "2017-09-03T00:00:00.000000000",
          "2017-09-04T00:00:00.000000000",
          "2017-09-07T00:00:00.000000000",
          "2017-09-08T00:00:00.000000000",
          "2017-09-09T00:00:00.000000000",
          "2017-09-10T00:00:00.000000000",
          "2017-09-11T00:00:00.000000000",
          "2017-09-12T00:00:00.000000000",
          "2017-09-14T00:00:00.000000000",
          "2017-09-15T00:00:00.000000000",
          "2017-09-16T00:00:00.000000000",
          "2017-09-17T00:00:00.000000000",
          "2017-09-18T00:00:00.000000000",
          "2017-09-19T00:00:00.000000000",
          "2017-09-20T00:00:00.000000000",
          "2017-09-22T00:00:00.000000000",
          "2017-09-23T00:00:00.000000000",
          "2017-09-24T00:00:00.000000000",
          "2017-09-25T00:00:00.000000000",
          "2017-09-26T00:00:00.000000000",
          "2017-09-28T00:00:00.000000000",
          "2017-09-29T00:00:00.000000000",
          "2017-10-01T00:00:00.000000000",
          "2017-10-02T00:00:00.000000000",
          "2017-10-03T00:00:00.000000000",
          "2017-10-04T00:00:00.000000000",
          "2017-10-05T00:00:00.000000000",
          "2017-10-06T00:00:00.000000000",
          "2017-10-07T00:00:00.000000000",
          "2017-10-08T00:00:00.000000000",
          "2017-10-09T00:00:00.000000000",
          "2017-10-10T00:00:00.000000000",
          "2017-10-12T00:00:00.000000000",
          "2017-10-13T00:00:00.000000000",
          "2017-10-14T00:00:00.000000000",
          "2017-10-15T00:00:00.000000000",
          "2017-10-16T00:00:00.000000000",
          "2017-10-19T00:00:00.000000000",
          "2017-10-20T00:00:00.000000000",
          "2017-10-21T00:00:00.000000000",
          "2017-10-22T00:00:00.000000000",
          "2017-10-23T00:00:00.000000000",
          "2017-10-24T00:00:00.000000000",
          "2017-10-26T00:00:00.000000000",
          "2017-10-27T00:00:00.000000000",
          "2017-10-28T00:00:00.000000000",
          "2017-10-30T00:00:00.000000000",
          "2017-11-01T00:00:00.000000000",
          "2017-11-02T00:00:00.000000000",
          "2017-11-03T00:00:00.000000000",
          "2017-11-04T00:00:00.000000000",
          "2017-11-05T00:00:00.000000000",
          "2017-11-06T00:00:00.000000000",
          "2017-11-07T00:00:00.000000000",
          "2017-11-08T00:00:00.000000000",
          "2017-11-09T00:00:00.000000000",
          "2017-11-10T00:00:00.000000000",
          "2017-11-11T00:00:00.000000000",
          "2017-11-12T00:00:00.000000000",
          "2017-11-13T00:00:00.000000000",
          "2017-11-14T00:00:00.000000000",
          "2017-11-15T00:00:00.000000000",
          "2017-11-16T00:00:00.000000000",
          "2017-11-17T00:00:00.000000000",
          "2017-11-18T00:00:00.000000000",
          "2017-11-19T00:00:00.000000000",
          "2017-11-20T00:00:00.000000000",
          "2017-11-21T00:00:00.000000000",
          "2017-11-23T00:00:00.000000000",
          "2017-11-24T00:00:00.000000000",
          "2017-11-25T00:00:00.000000000",
          "2017-11-26T00:00:00.000000000",
          "2017-11-27T00:00:00.000000000",
          "2017-11-28T00:00:00.000000000",
          "2017-11-29T00:00:00.000000000",
          "2017-11-30T00:00:00.000000000",
          "2017-12-01T00:00:00.000000000",
          "2017-12-02T00:00:00.000000000",
          "2017-12-03T00:00:00.000000000",
          "2017-12-04T00:00:00.000000000",
          "2017-12-05T00:00:00.000000000",
          "2017-12-07T00:00:00.000000000",
          "2017-12-08T00:00:00.000000000",
          "2017-12-09T00:00:00.000000000",
          "2017-12-10T00:00:00.000000000",
          "2017-12-11T00:00:00.000000000",
          "2017-12-13T00:00:00.000000000",
          "2017-12-14T00:00:00.000000000",
          "2017-12-15T00:00:00.000000000",
          "2017-12-16T00:00:00.000000000",
          "2017-12-17T00:00:00.000000000",
          "2017-12-18T00:00:00.000000000",
          "2017-12-19T00:00:00.000000000",
          "2017-12-21T00:00:00.000000000",
          "2017-12-22T00:00:00.000000000",
          "2017-12-23T00:00:00.000000000",
          "2017-12-24T00:00:00.000000000",
          "2017-12-25T00:00:00.000000000",
          "2017-12-28T00:00:00.000000000",
          "2017-12-29T00:00:00.000000000",
          "2017-12-30T00:00:00.000000000"
         ],
         "xaxis": "x",
         "y": {
          "bdata": "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",
          "dtype": "f8"
         },
         "yaxis": "y"
        }
       ],
       "layout": {
        "legend": {
         "tracegroupgap": 0
        },
        "template": {
         "data": {
          "bar": [
           {
            "error_x": {
             "color": "#2a3f5f"
            },
            "error_y": {
             "color": "#2a3f5f"
            },
            "marker": {
             "line": {
              "color": "#E5ECF6",
              "width": 0.5
             },
             "pattern": {
              "fillmode": "overlay",
              "size": 10,
              "solidity": 0.2
             }
            },
            "type": "bar"
           }
          ],
          "barpolar": [
           {
            "marker": {
             "line": {
              "color": "#E5ECF6",
              "width": 0.5
             },
             "pattern": {
              "fillmode": "overlay",
              "size": 10,
              "solidity": 0.2
             }
            },
            "type": "barpolar"
           }
          ],
          "carpet": [
           {
            "aaxis": {
             "endlinecolor": "#2a3f5f",
             "gridcolor": "white",
             "linecolor": "white",
             "minorgridcolor": "white",
             "startlinecolor": "#2a3f5f"
            },
            "baxis": {
             "endlinecolor": "#2a3f5f",
             "gridcolor": "white",
             "linecolor": "white",
             "minorgridcolor": "white",
             "startlinecolor": "#2a3f5f"
            },
            "type": "carpet"
           }
          ],
          "choropleth": [
           {
            "colorbar": {
             "outlinewidth": 0,
             "ticks": ""
            },
            "type": "choropleth"
           }
          ],
          "contour": [
           {
            "colorbar": {
             "outlinewidth": 0,
             "ticks": ""
            },
            "colorscale": [
             [
              0,
              "#0d0887"
             ],
             [
              0.1111111111111111,
              "#46039f"
             ],
             [
              0.2222222222222222,
              "#7201a8"
             ],
             [
              0.3333333333333333,
              "#9c179e"
             ],
             [
              0.4444444444444444,
              "#bd3786"
             ],
             [
              0.5555555555555556,
              "#d8576b"
             ],
             [
              0.6666666666666666,
              "#ed7953"
             ],
             [
              0.7777777777777778,
              "#fb9f3a"
             ],
             [
              0.8888888888888888,
              "#fdca26"
             ],
             [
              1,
              "#f0f921"
             ]
            ],
            "type": "contour"
           }
          ],
          "contourcarpet": [
           {
            "colorbar": {
             "outlinewidth": 0,
             "ticks": ""
            },
            "type": "contourcarpet"
           }
          ],
          "heatmap": [
           {
            "colorbar": {
             "outlinewidth": 0,
             "ticks": ""
            },
            "colorscale": [
             [
              0,
              "#0d0887"
             ],
             [
              0.1111111111111111,
              "#46039f"
             ],
             [
              0.2222222222222222,
              "#7201a8"
             ],
             [
              0.3333333333333333,
              "#9c179e"
             ],
             [
              0.4444444444444444,
              "#bd3786"
             ],
             [
              0.5555555555555556,
              "#d8576b"
             ],
             [
              0.6666666666666666,
              "#ed7953"
             ],
             [
              0.7777777777777778,
              "#fb9f3a"
             ],
             [
              0.8888888888888888,
              "#fdca26"
             ],
             [
              1,
              "#f0f921"
             ]
            ],
            "type": "heatmap"
           }
          ],
          "histogram": [
           {
            "marker": {
             "pattern": {
              "fillmode": "overlay",
              "size": 10,
              "solidity": 0.2
             }
            },
            "type": "histogram"
           }
          ],
          "histogram2d": [
           {
            "colorbar": {
             "outlinewidth": 0,
             "ticks": ""
            },
            "colorscale": [
             [
              0,
              "#0d0887"
             ],
             [
              0.1111111111111111,
              "#46039f"
             ],
             [
              0.2222222222222222,
              "#7201a8"
             ],
             [
              0.3333333333333333,
              "#9c179e"
             ],
             [
              0.4444444444444444,
              "#bd3786"
             ],
             [
              0.5555555555555556,
              "#d8576b"
             ],
             [
              0.6666666666666666,
              "#ed7953"
             ],
             [
              0.7777777777777778,
              "#fb9f3a"
             ],
             [
              0.8888888888888888,
              "#fdca26"
             ],
             [
              1,
              "#f0f921"
             ]
            ],
            "type": "histogram2d"
           }
          ],
          "histogram2dcontour": [
           {
            "colorbar": {
             "outlinewidth": 0,
             "ticks": ""
            },
            "colorscale": [
             [
              0,
              "#0d0887"
             ],
             [
              0.1111111111111111,
              "#46039f"
             ],
             [
              0.2222222222222222,
              "#7201a8"
             ],
             [
              0.3333333333333333,
              "#9c179e"
             ],
             [
              0.4444444444444444,
              "#bd3786"
             ],
             [
              0.5555555555555556,
              "#d8576b"
             ],
             [
              0.6666666666666666,
              "#ed7953"
             ],
             [
              0.7777777777777778,
              "#fb9f3a"
             ],
             [
              0.8888888888888888,
              "#fdca26"
             ],
             [
              1,
              "#f0f921"
             ]
            ],
            "type": "histogram2dcontour"
           }
          ],
          "mesh3d": [
           {
            "colorbar": {
             "outlinewidth": 0,
             "ticks": ""
            },
            "type": "mesh3d"
           }
          ],
          "parcoords": [
           {
            "line": {
             "colorbar": {
              "outlinewidth": 0,
              "ticks": ""
             }
            },
            "type": "parcoords"
           }
          ],
          "pie": [
           {
            "automargin": true,
            "type": "pie"
           }
          ],
          "scatter": [
           {
            "fillpattern": {
             "fillmode": "overlay",
             "size": 10,
             "solidity": 0.2
            },
            "type": "scatter"
           }
          ],
          "scatter3d": [
           {
            "line": {
             "colorbar": {
              "outlinewidth": 0,
              "ticks": ""
             }
            },
            "marker": {
             "colorbar": {
              "outlinewidth": 0,
              "ticks": ""
             }
            },
            "type": "scatter3d"
           }
          ],
          "scattercarpet": [
           {
            "marker": {
             "colorbar": {
              "outlinewidth": 0,
              "ticks": ""
             }
            },
            "type": "scattercarpet"
           }
          ],
          "scattergeo": [
           {
            "marker": {
             "colorbar": {
              "outlinewidth": 0,
              "ticks": ""
             }
            },
            "type": "scattergeo"
           }
          ],
          "scattergl": [
           {
            "marker": {
             "colorbar": {
              "outlinewidth": 0,
              "ticks": ""
             }
            },
            "type": "scattergl"
           }
          ],
          "scattermap": [
           {
            "marker": {
             "colorbar": {
              "outlinewidth": 0,
              "ticks": ""
             }
            },
            "type": "scattermap"
           }
          ],
          "scattermapbox": [
           {
            "marker": {
             "colorbar": {
              "outlinewidth": 0,
              "ticks": ""
             }
            },
            "type": "scattermapbox"
           }
          ],
          "scatterpolar": [
           {
            "marker": {
             "colorbar": {
              "outlinewidth": 0,
              "ticks": ""
             }
            },
            "type": "scatterpolar"
           }
          ],
          "scatterpolargl": [
           {
            "marker": {
             "colorbar": {
              "outlinewidth": 0,
              "ticks": ""
             }
            },
            "type": "scatterpolargl"
           }
          ],
          "scatterternary": [
           {
            "marker": {
             "colorbar": {
              "outlinewidth": 0,
              "ticks": ""
             }
            },
            "type": "scatterternary"
           }
          ],
          "surface": [
           {
            "colorbar": {
             "outlinewidth": 0,
             "ticks": ""
            },
            "colorscale": [
             [
              0,
              "#0d0887"
             ],
             [
              0.1111111111111111,
              "#46039f"
             ],
             [
              0.2222222222222222,
              "#7201a8"
             ],
             [
              0.3333333333333333,
              "#9c179e"
             ],
             [
              0.4444444444444444,
              "#bd3786"
             ],
             [
              0.5555555555555556,
              "#d8576b"
             ],
             [
              0.6666666666666666,
              "#ed7953"
             ],
             [
              0.7777777777777778,
              "#fb9f3a"
             ],
             [
              0.8888888888888888,
              "#fdca26"
             ],
             [
              1,
              "#f0f921"
             ]
            ],
            "type": "surface"
           }
          ],
          "table": [
           {
            "cells": {
             "fill": {
              "color": "#EBF0F8"
             },
             "line": {
              "color": "white"
             }
            },
            "header": {
             "fill": {
              "color": "#C8D4E3"
             },
             "line": {
              "color": "white"
             }
            },
            "type": "table"
           }
          ]
         },
         "layout": {
          "annotationdefaults": {
           "arrowcolor": "#2a3f5f",
           "arrowhead": 0,
           "arrowwidth": 1
          },
          "autotypenumbers": "strict",
          "coloraxis": {
           "colorbar": {
            "outlinewidth": 0,
            "ticks": ""
           }
          },
          "colorscale": {
           "diverging": [
            [
             0,
             "#8e0152"
            ],
            [
             0.1,
             "#c51b7d"
            ],
            [
             0.2,
             "#de77ae"
            ],
            [
             0.3,
             "#f1b6da"
            ],
            [
             0.4,
             "#fde0ef"
            ],
            [
             0.5,
             "#f7f7f7"
            ],
            [
             0.6,
             "#e6f5d0"
            ],
            [
             0.7,
             "#b8e186"
            ],
            [
             0.8,
             "#7fbc41"
            ],
            [
             0.9,
             "#4d9221"
            ],
            [
             1,
             "#276419"
            ]
           ],
           "sequential": [
            [
             0,
             "#0d0887"
            ],
            [
             0.1111111111111111,
             "#46039f"
            ],
            [
             0.2222222222222222,
             "#7201a8"
            ],
            [
             0.3333333333333333,
             "#9c179e"
            ],
            [
             0.4444444444444444,
             "#bd3786"
            ],
            [
             0.5555555555555556,
             "#d8576b"
            ],
            [
             0.6666666666666666,
             "#ed7953"
            ],
            [
             0.7777777777777778,
             "#fb9f3a"
            ],
            [
             0.8888888888888888,
             "#fdca26"
            ],
            [
             1,
             "#f0f921"
            ]
           ],
           "sequentialminus": [
            [
             0,
             "#0d0887"
            ],
            [
             0.1111111111111111,
             "#46039f"
            ],
            [
             0.2222222222222222,
             "#7201a8"
            ],
            [
             0.3333333333333333,
             "#9c179e"
            ],
            [
             0.4444444444444444,
             "#bd3786"
            ],
            [
             0.5555555555555556,
             "#d8576b"
            ],
            [
             0.6666666666666666,
             "#ed7953"
            ],
            [
             0.7777777777777778,
             "#fb9f3a"
            ],
            [
             0.8888888888888888,
             "#fdca26"
            ],
            [
             1,
             "#f0f921"
            ]
           ]
          },
          "colorway": [
           "#636efa",
           "#EF553B",
           "#00cc96",
           "#ab63fa",
           "#FFA15A",
           "#19d3f3",
           "#FF6692",
           "#B6E880",
           "#FF97FF",
           "#FECB52"
          ],
          "font": {
           "color": "#2a3f5f"
          },
          "geo": {
           "bgcolor": "white",
           "lakecolor": "white",
           "landcolor": "#E5ECF6",
           "showlakes": true,
           "showland": true,
           "subunitcolor": "white"
          },
          "hoverlabel": {
           "align": "left"
          },
          "hovermode": "closest",
          "mapbox": {
           "style": "light"
          },
          "paper_bgcolor": "white",
          "plot_bgcolor": "#E5ECF6",
          "polar": {
           "angularaxis": {
            "gridcolor": "white",
            "linecolor": "white",
            "ticks": ""
           },
           "bgcolor": "#E5ECF6",
           "radialaxis": {
            "gridcolor": "white",
            "linecolor": "white",
            "ticks": ""
           }
          },
          "scene": {
           "xaxis": {
            "backgroundcolor": "#E5ECF6",
            "gridcolor": "white",
            "gridwidth": 2,
            "linecolor": "white",
            "showbackground": true,
            "ticks": "",
            "zerolinecolor": "white"
           },
           "yaxis": {
            "backgroundcolor": "#E5ECF6",
            "gridcolor": "white",
            "gridwidth": 2,
            "linecolor": "white",
            "showbackground": true,
            "ticks": "",
            "zerolinecolor": "white"
           },
           "zaxis": {
            "backgroundcolor": "#E5ECF6",
            "gridcolor": "white",
            "gridwidth": 2,
            "linecolor": "white",
            "showbackground": true,
            "ticks": "",
            "zerolinecolor": "white"
           }
          },
          "shapedefaults": {
           "line": {
            "color": "#2a3f5f"
           }
          },
          "ternary": {
           "aaxis": {
            "gridcolor": "white",
            "linecolor": "white",
            "ticks": ""
           },
           "baxis": {
            "gridcolor": "white",
            "linecolor": "white",
            "ticks": ""
           },
           "bgcolor": "#E5ECF6",
           "caxis": {
            "gridcolor": "white",
            "linecolor": "white",
            "ticks": ""
           }
          },
          "title": {
           "x": 0.05
          },
          "xaxis": {
           "automargin": true,
           "gridcolor": "white",
           "linecolor": "white",
           "ticks": "",
           "title": {
            "standoff": 15
           },
           "zerolinecolor": "white",
           "zerolinewidth": 2
          },
          "yaxis": {
           "automargin": true,
           "gridcolor": "white",
           "linecolor": "white",
           "ticks": "",
           "title": {
            "standoff": 15
           },
           "zerolinecolor": "white",
           "zerolinewidth": 2
          }
         }
        },
        "title": {
         "text": "Évolution des ventes dans le temps"
        },
        "xaxis": {
         "anchor": "y",
         "domain": [
          0,
          1
         ],
         "title": {
          "text": "Order Date"
         }
        },
        "yaxis": {
         "anchor": "x",
         "domain": [
          0,
          1
         ],
         "title": {
          "text": "Sales"
         }
        }
       }
      }
     },
     "metadata": {},
     "output_type": "display_data"
    },
    {
     "data": {
      "image/png": "[encoded data removed]",
      "text/plain": [
       "<Figure size 1200x500 with 1 Axes>"
      ]
     },
     "metadata": {},
     "output_type": "display_data"
    },
    {
     "data": {
      "image/png": "[encoded data removed]",
      "text/plain": [
       "<Figure size 1200x500 with 1 Axes>"
      ]
     },
     "metadata": {},
     "output_type": "display_data"
    },
    {
     "data": {
      "image/png": "[encoded data removed]",
      "text/plain": [
       "<Figure size 640x480 with 4 Axes>"
      ]
     },
     "metadata": {},
     "output_type": "display_data"
    }
   ],
   "source": [
    "%matplotlib inline\n",
    "\n",
    "# Profiling\n",
    "profile_full = ProfileReport(\n",
    "    df,\n",
    "    title=\"EDA - Superstore Sales (full, toutes colonnes)\",\n",
    "    explorative=True\n",
    ")\n",
    "profile_full.to_file(\"../reports/eda_report.html\")\n",
    "print(\"✅ Rapport complet généré : ../reports/eda_report.html\")\n",
    "\n",
    "# Distribution des ventes\n",
    "plt.figure(figsize=(8,5))\n",
    "sns.histplot(df[\"Sales\"], bins=50, kde=True)\n",
    "plt.title(\"Distribution des ventes\")\n",
    "plt.show()\n",
    "\n",
    "# Courbe interactive des ventes par date\n",
    "df[\"Order Date\"] = pd.to_datetime(df[\"Order Date\"], errors=\"coerce\")\n",
    "sales_time = df.groupby(\"Order Date\")[\"Sales\"].sum().reset_index()\n",
    "\n",
    "fig = px.line(sales_time, x=\"Order Date\", y=\"Sales\", \n",
    "              title=\"Évolution des ventes dans le temps\")\n",
    "fig.show()\n",
    "\n",
    "# Vérification de la saisonnalité\n",
    "\n",
    "# Extraire année et mois\n",
    "df[\"Order_Year\"] = df[\"Order Date\"].dt.year\n",
    "df[\"Order_Month\"] = df[\"Order Date\"].dt.month\n",
    "\n",
    "# Agrégation mensuelle\n",
    "monthly_sales = df.groupby(['Order_Year','Order_Month'])['Sales'].sum().reset_index()\n",
    "monthly_sales['Date'] = pd.to_datetime(\n",
    "    monthly_sales['Order_Year'].astype(str) + '-' + monthly_sales['Order_Month'].astype(str) + '-01'\n",
    ")\n",
    "\n",
    "monthly_profit = df.groupby(['Order_Year','Order_Month'])['Profit'].sum().reset_index()\n",
    "monthly_profit['Date'] = pd.to_datetime(\n",
    "    monthly_profit['Order_Year'].astype(str) + '-' + monthly_profit['Order_Month'].astype(str) + '-01'\n",
    ")\n",
    "\n",
    "# Plots\n",
    "plt.figure(figsize=(12,5))\n",
    "plt.plot(monthly_sales['Date'], monthly_sales['Sales'], marker='o')\n",
    "plt.title(\"Évolution mensuelle des ventes\")\n",
    "plt.show()\n",
    "\n",
    "plt.figure(figsize=(12,5))\n",
    "plt.plot(monthly_profit['Date'], monthly_profit['Profit'], marker='o', color='orange')\n",
    "plt.title(\"Évolution mensuelle du profit\")\n",
    "plt.show()\n",
    "\n",
    "# Décomposition\n",
    "monthly_sales = monthly_sales.set_index('Date')\n",
    "decomposition = seasonal_decompose(monthly_sales['Sales'], model='additive', period=12)  \n",
    "decomposition.plot()\n",
    "plt.show()"
   ]
  },
  {
   "cell_type": "markdown",
   "id": "9954a85e-0877-4001-93a1-a4e2a5a1bcec",
   "metadata": {},
   "source": [
    "**Note** : La barre de progression avec *ydata-profiling* ne monte pas toujours à 100%. C’est normal car certaines étapes du traitement terminent rapidement, mais le rapport est bien généré et complet dans reports/eda_report.html.\n",
    "\n",
    "### Constat\n",
    "\n",
    "- La distribution des ventes démontrent qu'il y a des outliers dont il faudra tenir compte.\n",
    "\n",
    "- La décomposition de la série temporelle des ventes montre :\n",
    "\n",
    "    - une tendance croissance des ventes sur 2014–2017 (exemple de causes : expansion de la business, plus de clients/produits).\n",
    "\n",
    "    - une saisonnalité à cause des pics récurrents et avec un pattern (ex: promotions, événements saisonniers, fin d’année).\n",
    "\n",
    "### Prochaines étapes \n",
    "- Comme une saisonnalité est détectée, je vais ajouter des features temporels (ex. : mois, trimestre, période promotionnelle).  \n",
    "- Pour une modélisation avancée, on pourrait envisager des modèles spécialisés en séries temporelles (ex: LSTM), mais pour l'objectif actuel du projet, je vais simplement enrichir le dataset avec des features temporels."
   ]
  },
  {
   "cell_type": "markdown",
   "id": "65599855-0c36-4ec3-8622-303233d83aed",
   "metadata": {},
   "source": [
    "# 1. Modèle de Classification : Prédire la profitabilité d'une commande\n",
    "### Feature Engineering et Sélection\n",
    "Je choisis d'abord XGBoostClassifier comme modèle car il est réputé pour bien performer."
   ]
  },
  {
   "cell_type": "code",
   "execution_count": 6,
   "id": "be1c1559",
   "metadata": {},
   "outputs": [
    {
     "name": "stdout",
     "output_type": "stream",
     "text": [
      "is_profitable\n",
      "1    0.647808\n",
      "0    0.352192\n",
      "Name: proportion, dtype: float64\n",
      "             Sales     Discount\n",
      "count  2121.000000  2121.000000\n",
      "mean    349.834887     0.173923\n",
      "std     503.179145     0.181547\n",
      "min       1.892000     0.000000\n",
      "25%      47.040000     0.000000\n",
      "50%     182.220000     0.200000\n",
      "75%     435.168000     0.300000\n",
      "max    4416.174000     0.700000\n"
     ]
    },
    {
     "data": {
      "image/png": "[encoded data removed]",
      "text/plain": [
       "<Figure size 600x300 with 1 Axes>"
      ]
     },
     "metadata": {},
     "output_type": "display_data"
    },
    {
     "data": {
      "image/png": "[encoded data removed]",
      "text/plain": [
       "<Figure size 600x300 with 1 Axes>"
      ]
     },
     "metadata": {},
     "output_type": "display_data"
    },
    {
     "name": "stdout",
     "output_type": "stream",
     "text": [
      "✅ Dataset prétraité sauvegardé dans ../data/interim/stores_sales_forecasting_interim.csv\n",
      "              precision    recall  f1-score   support\n",
      "\n",
      "           0       0.91      0.79      0.84       150\n",
      "           1       0.89      0.96      0.92       275\n",
      "\n",
      "    accuracy                           0.90       425\n",
      "   macro avg       0.90      0.87      0.88       425\n",
      "weighted avg       0.90      0.90      0.89       425\n",
      "\n"
     ]
    }
   ],
   "source": [
    "# Créer la variable cible (classification binaire : profitable ou non)\n",
    "df['is_profitable'] = (df['Profit'] > 0).astype(int)\n",
    "\n",
    "# Vérif rapide de la distribution de la cible\n",
    "print(df['is_profitable'].value_counts(normalize=True))\n",
    "\n",
    "# Distribution des features numériques\n",
    "print(df[['Sales', 'Discount']].describe())\n",
    "\n",
    "# Boxplots pour repérer les outliers\n",
    "for col in ['Sales', 'Discount']:\n",
    "    plt.figure(figsize=(6,3))\n",
    "    sns.boxplot(x=df[col])\n",
    "    plt.title(f\"Distribution de {col}\")\n",
    "    plt.show()\n",
    "\n",
    "# Conversion des dates\n",
    "df['Order Date'] = pd.to_datetime(df['Order Date'], errors='coerce')\n",
    "df['Ship Date'] = pd.to_datetime(df['Ship Date'], errors='coerce')\n",
    "\n",
    "# Extraction de nouvelles features temporelles\n",
    "df['Order_DayOfWeek'] = df['Order Date'].dt.dayofweek\n",
    "df['Order_Quarter'] = df['Order Date'].dt.quarter\n",
    "df['Is_EndOfYear'] = (df['Order_Month'] == 12).astype(int)   # période de fin d’année\n",
    "df['Delivery_Days'] = (df['Ship Date'] - df['Order Date']).dt.days\n",
    "\n",
    "# Sélection des features (numériques + catégoriels)\n",
    "num_features = [\n",
    "    'Sales','Discount','Order_Year','Order_Month',\n",
    "    'Order_DayOfWeek','Order_Quarter','Is_EndOfYear','Delivery_Days'\n",
    "]\n",
    "\n",
    "cat_features = [\n",
    "    'Ship Mode','Segment','City','Region','Sub-Category','State','Product ID','Customer ID'\n",
    "]\n",
    "\n",
    "features = df[num_features + cat_features]\n",
    "\n",
    "# Sauvegarde du dataset transformé dans data/processed\n",
    "processed_path = \"../data/interim/stores_sales_forecasting_interim.csv\"\n",
    "\n",
    "df_processed = df[num_features + cat_features + ['is_profitable']].copy()\n",
    "df_processed.to_csv(processed_path, index=False)\n",
    "\n",
    "print(f\"✅ Dataset prétraité sauvegardé dans {processed_path}\")\n",
    "\n",
    "# Split train/test\n",
    "X_train, X_test, y_train, y_test = train_test_split(\n",
    "    features, df['is_profitable'], \n",
    "    test_size=0.2, random_state=42, stratify=df['is_profitable']\n",
    ")\n",
    "\n",
    "# Preprocessing : OneHotEncoder pour les catégoriels\n",
    "preprocessor = ColumnTransformer([\n",
    "    (\"cat\", OneHotEncoder(handle_unknown=\"ignore\"), cat_features)\n",
    "], remainder=\"passthrough\")\n",
    "\n",
    "# Pipeline avec XGBoostClassifier\n",
    "clf = Pipeline([\n",
    "    (\"preprocessor\", preprocessor),\n",
    "    (\"model\", XGBClassifier(eval_metric=\"logloss\", random_state=42))\n",
    "])\n",
    "\n",
    "# Entraînement\n",
    "clf.fit(X_train, y_train)\n",
    "\n",
    "# Évaluation\n",
    "y_pred = clf.predict(X_test)\n",
    "print(classification_report(y_test, y_pred))\n"
   ]
  },
  {
   "cell_type": "markdown",
   "id": "98ca7d81-1bd2-4476-a237-e790aa878f62",
   "metadata": {},
   "source": [
    "### Analyse des résultats et décisions\n",
    "\n",
    "- Distribution de la cible: 65% des transactions sont profitables contre 35% non profitables. Légère asymétrie mais pas problématique. Si la proportion profitable/non-profitable avait été très déséquilibrée, on aurait pu utiliser SMOTE ou ajuster scale_pos_weight dans XGBoost pour rebalancer les classes.\n",
    "- Performance du modèle (XGBoost) : accuracy ≈ 90%, F1-score ≈ 0.84 (non profitable) et 0.92 (profitable). Le modèle distingue bien les cas rentables.  \n",
    "- Analyse des features :\n",
    "  - `Sales` contient de forts outliers. Je vais faire une transformation logarithmique pour stabiliser la variance lors de la regression.  \n",
    "  - `Discount` montre des effets non linéaires. Certains gros discounts pourraient expliquer les ventes non-profitables, mais je ne pousse pas plus loin car ce n'est pas l'objectif du projet.\n",
    "\n",
    "### Prochaine étape  \n",
    "- Explorer l’importance des features pour mieux comprendre leurs effets sur la profitabilité.  "
   ]
  },
  {
   "cell_type": "markdown",
   "id": "8d2a3cc2-4e34-4b51-8e60-0399385307a7",
   "metadata": {},
   "source": [
    "## Importance des variables : Pour explicabilité du modèle"
   ]
  },
  {
   "cell_type": "code",
   "execution_count": 7,
   "id": "982476dd-9ac6-4b0d-9ec6-5b574756d949",
   "metadata": {},
   "outputs": [
    {
     "data": {
      "image/png": "[encoded data removed]",
      "text/plain": [
       "<Figure size 1000x600 with 1 Axes>"
      ]
     },
     "metadata": {},
     "output_type": "display_data"
    },
    {
     "name": "stdout",
     "output_type": "stream",
     "text": [
      "                         Feature  Importance\n",
      "1451                    Discount    0.349007\n",
      "503   Product ID_FUR-CH-10003298    0.036980\n",
      "408   Product ID_FUR-BO-10001337    0.036215\n",
      "532   Product ID_FUR-CH-10004860    0.032589\n",
      "452   Product ID_FUR-CH-10000225    0.032430\n",
      "501   Product ID_FUR-CH-10003061    0.031645\n",
      "513   Product ID_FUR-CH-10003833    0.029817\n",
      "729   Product ID_FUR-TA-10001676    0.025278\n",
      "419   Product ID_FUR-BO-10002213    0.022928\n",
      "496   Product ID_FUR-CH-10002774    0.022671\n",
      "295                 City_Seattle    0.018915\n",
      "534   Product ID_FUR-CH-10004886    0.018143\n",
      "355                State_Arizona    0.017098\n",
      "393              State_Tennessee    0.015083\n",
      "172              City_Long Beach    0.014987\n",
      "755   Product ID_FUR-TA-10003473    0.014841\n",
      "389           State_Pennsylvania    0.014096\n",
      "350       Sub-Category_Bookcases    0.013973\n",
      "357             State_California    0.013371\n",
      "1450                       Sales    0.013009\n",
      "176             City_Los Angeles    0.012409\n",
      "287           City_San Francisco    0.012110\n",
      "352     Sub-Category_Furnishings    0.011977\n",
      "353          Sub-Category_Tables    0.011935\n",
      "385         State_North Carolina    0.011933\n",
      "1             Ship Mode_Same Day    0.011660\n",
      "6            Segment_Home Office    0.010260\n",
      "1457               Delivery_Days    0.009978\n",
      "348                 Region_South    0.009119\n",
      "349                  Region_West    0.008844\n"
     ]
    }
   ],
   "source": [
    "# Récupérer les noms des features après OneHotEncoding\n",
    "ohe = clf.named_steps[\"preprocessor\"].named_transformers_[\"cat\"]\n",
    "ohe_features = ohe.get_feature_names_out(cat_features)\n",
    "all_features = np.concatenate([ohe_features, num_features])\n",
    "\n",
    "# Récupérer les importances\n",
    "importances = clf.named_steps[\"model\"].feature_importances_\n",
    "\n",
    "# Construire un dataframe trié\n",
    "feat_importances = pd.DataFrame({\n",
    "    \"Feature\": all_features,\n",
    "    \"Importance\": importances\n",
    "}).sort_values(by=\"Importance\", ascending=False)\n",
    "\n",
    "# Afficher le top 15\n",
    "plt.figure(figsize=(10,6))\n",
    "sns.barplot(x=\"Importance\", y=\"Feature\", data=feat_importances.head(30))\n",
    "plt.title(\"Top 15 des features les plus importantes (XGBoost)\")\n",
    "plt.show()\n",
    "\n",
    "print(feat_importances.head(30))"
   ]
  },
  {
   "cell_type": "markdown",
   "id": "a5c63589-58de-456b-afbd-1b616022f2a5",
   "metadata": {},
   "source": [
    "### Constat\n",
    "\n",
    "Discount et Product ID sont les features les plus explicatifs de la profitabilité. Certains `State` comme Seattle, Arizona, Tennessee ont un poids non négligeable (peut-être pour des raisons comme coûts logistiques, comportement client, etc). Les autres variables ont un impact marginal.  \n",
    "\n",
    "XGBoost gère naturellement les variables moins pertinentes, alors je conserve tous les features pour la suite, mais je retiens que les rabais, le type de produit et certaines zones géographiques sont les principaux features explicatifs de la profitabilité."
   ]
  },
  {
   "cell_type": "markdown",
   "id": "0ac93a27-5864-4cfe-8f44-f08c22a17a7b",
   "metadata": {},
   "source": [
    "## Conclusion Classification\n",
    "La classification des transactions permet de cibler les ventes rentables.  L'étape suivante est de construire un modèle de régression sur les ventes profitables.  \n",
    "\n",
    "C'est une approche qui me semble cohérente pour point de vue business. Je vais entraîner un modèle de régression uniquement sur les ventes profitables afin de prédire le montant des ventes futures qui sont pertinentes (i.e. avec profit > 0). Cette approche permet aux gestionnaires de prendre de meilleures décisions quant aux ventes futures, rabais actuels, logistique de livraison, etc."
   ]
  },
  {
   "cell_type": "markdown",
   "id": "48004999-9dde-4b7b-86b2-0433fae4f581",
   "metadata": {},
   "source": [
    "# 2. Régression conditionnelle: prédire le montant des ventes seulement pour les transactions profitables"
   ]
  },
  {
   "cell_type": "code",
   "execution_count": 8,
   "id": "6717557c-e8ff-419f-b323-8c585c91f211",
   "metadata": {},
   "outputs": [
    {
     "name": "stdout",
     "output_type": "stream",
     "text": [
      "Train - MAE: 107.53, RMSE: 148.07\n",
      "Test  - MAE: 226.79, RMSE: 399.78\n"
     ]
    },
    {
     "data": {
      "image/png": "[encoded data removed]",
      "text/plain": [
       "<Figure size 600x600 with 1 Axes>"
      ]
     },
     "metadata": {},
     "output_type": "display_data"
    }
   ],
   "source": [
    "# Filtrer uniquement les transactions profitables\n",
    "df_profitable = df[df['is_profitable'] == 1].copy()\n",
    "\n",
    "# Features identiques à la classification\n",
    "num_features_reg = [\n",
    "    'Discount','Order_Year','Order_Month',\n",
    "    'Order_DayOfWeek','Order_Quarter','Is_EndOfYear','Delivery_Days'\n",
    "]\n",
    "\n",
    "cat_features_reg = [\n",
    "    'Ship Mode','Segment','City','Region','Sub-Category','State','Product ID','Customer ID'\n",
    "]\n",
    "\n",
    "# Définir X et y\n",
    "X_reg = df_profitable[num_features_reg + cat_features_reg].copy()\n",
    "y_reg = df_profitable['Sales']\n",
    "\n",
    "# Split train/test\n",
    "X_train_reg, X_test_reg, y_train_reg, y_test_reg = train_test_split(\n",
    "    X_reg, y_reg,\n",
    "    test_size=0.2, random_state=42\n",
    ")\n",
    "\n",
    "# Préprocessing\n",
    "preprocessor_reg = ColumnTransformer([\n",
    "    (\"cat\", OneHotEncoder(handle_unknown=\"ignore\"), cat_features_reg)\n",
    "], remainder=\"passthrough\")\n",
    "\n",
    "# Pipeline avec XGBRegressor\n",
    "reg = Pipeline([\n",
    "    (\"preprocessor\", preprocessor_reg),\n",
    "    (\"model\", XGBRegressor(\n",
    "        n_estimators=300, \n",
    "        learning_rate=0.1, \n",
    "        max_depth=6,\n",
    "        subsample=0.8,\n",
    "        colsample_bytree=0.8,\n",
    "        random_state=42\n",
    "    ))\n",
    "])\n",
    "\n",
    "# Entraînement\n",
    "reg.fit(X_train_reg, y_train_reg)\n",
    "\n",
    "# Évaluation sur test set\n",
    "y_pred_test = reg.predict(X_test_reg)\n",
    "\n",
    "# Scores TRAIN\n",
    "y_pred_train = reg.predict(X_train_reg)\n",
    "mae_train = mean_absolute_error(y_train_reg, y_pred_train)\n",
    "rmse_train = np.sqrt(mean_squared_error(y_train_reg, y_pred_train))\n",
    "\n",
    "# Scores TEST\n",
    "mae_test = mean_absolute_error(y_test_reg, y_pred_test)\n",
    "rmse_test = np.sqrt(mean_squared_error(y_test_reg, y_pred_test))\n",
    "\n",
    "print(f\"Train - MAE: {mae_train:.2f}, RMSE: {rmse_train:.2f}\")\n",
    "print(f\"Test  - MAE: {mae_test:.2f}, RMSE: {rmse_test:.2f}\")\n",
    "\n",
    "# Courbe prédictions vs valeurs réelles\n",
    "plt.figure(figsize=(6,6))\n",
    "sns.scatterplot(x=y_test_reg, y=y_pred_test, alpha=0.6)\n",
    "plt.plot([y_test_reg.min(), y_test_reg.max()], [y_test_reg.min(), y_test_reg.max()], 'r--')\n",
    "plt.xlabel(\"Ventes réelles\")\n",
    "plt.ylabel(\"Ventes prédites\")\n",
    "plt.title(\"Prédictions vs Réel (Régression sur les ventes profitables)\")\n",
    "plt.show()"
   ]
  },
  {
   "cell_type": "markdown",
   "id": "1626ee89-8fc7-4535-93e7-1ce41cccfc5b",
   "metadata": {},
   "source": [
    "### Constat \n",
    "\n",
    "- Le modèle capte la tendance générale, il a du mal avec les outliers. Je vais appliquer une transformation log.\n",
    "\n",
    "### Prochaine étape\n",
    "\n",
    "- Tester une transformation log(Sales) pour réduire l’influence des outliers sur la loss function RMSE/MSE.\n",
    "- Envisager d'autres modèles si les résultats ne sont pas satisfaisant."
   ]
  },
  {
   "cell_type": "markdown",
   "id": "77be404e-6a20-4faa-a04c-a1ab757c9153",
   "metadata": {},
   "source": [
    "## Log-Transform"
   ]
  },
  {
   "cell_type": "code",
   "execution_count": 9,
   "id": "63dadb14-ae58-43d3-a182-27ed9b6eeca3",
   "metadata": {},
   "outputs": [
    {
     "name": "stdout",
     "output_type": "stream",
     "text": [
      "Train - MAE: 132.68, RMSE: 301.71\n",
      "Test  - MAE: 201.28, RMSE: 422.69\n"
     ]
    },
    {
     "data": {
      "image/png": "[encoded data removed]",
      "text/plain": [
       "<Figure size 700x600 with 1 Axes>"
      ]
     },
     "metadata": {},
     "output_type": "display_data"
    },
    {
     "data": {
      "text/html": [
       "<div>\n",
       "<style scoped>\n",
       "    .dataframe tbody tr th:only-of-type {\n",
       "        vertical-align: middle;\n",
       "    }\n",
       "\n",
       "    .dataframe tbody tr th {\n",
       "        vertical-align: top;\n",
       "    }\n",
       "\n",
       "    .dataframe thead th {\n",
       "        text-align: right;\n",
       "    }\n",
       "</style>\n",
       "<table border=\"1\" class=\"dataframe\">\n",
       "  <thead>\n",
       "    <tr style=\"text-align: right;\">\n",
       "      <th></th>\n",
       "      <th>Modèle</th>\n",
       "      <th>MAE</th>\n",
       "      <th>RMSE</th>\n",
       "    </tr>\n",
       "  </thead>\n",
       "  <tbody>\n",
       "    <tr>\n",
       "      <th>0</th>\n",
       "      <td>XGBoost (sans log-transform)</td>\n",
       "      <td>226.79</td>\n",
       "      <td>399.78</td>\n",
       "    </tr>\n",
       "    <tr>\n",
       "      <th>1</th>\n",
       "      <td>XGBoost (log-transform)</td>\n",
       "      <td>201.28</td>\n",
       "      <td>422.69</td>\n",
       "    </tr>\n",
       "  </tbody>\n",
       "</table>\n",
       "</div>"
      ],
      "text/plain": [
       "                         Modèle     MAE    RMSE\n",
       "0  XGBoost (sans log-transform)  226.79  399.78\n",
       "1       XGBoost (log-transform)  201.28  422.69"
      ]
     },
     "metadata": {},
     "output_type": "display_data"
    }
   ],
   "source": [
    "# Cible avec transformation log sur le split unique\n",
    "y_train_log = np.log1p(y_train_reg)\n",
    "y_test_log  = np.log1p(y_test_reg)\n",
    "\n",
    "# Entraînement sur X_train_reg et y_train_log\n",
    "reg.fit(X_train_reg, y_train_log)\n",
    "\n",
    "# Prédictions TEST \n",
    "y_pred_test_log = reg.predict(X_test_reg)            # prédictions en log\n",
    "y_pred_test = np.expm1(y_pred_test_log)              # inverse du log -> ventes réelles\n",
    "y_test_real = y_test_reg.values                      # ventes réelles\n",
    "\n",
    "# Prédictions TRAIN\n",
    "y_pred_train_log = reg.predict(X_train_reg)\n",
    "y_pred_train = np.expm1(y_pred_train_log)\n",
    "y_train_real = y_train_reg.values\n",
    "\n",
    "# Scores TRAIN\n",
    "mae_train = mean_absolute_error(y_train_real, y_pred_train)\n",
    "rmse_train = np.sqrt(mean_squared_error(y_train_real, y_pred_train))\n",
    "\n",
    "# Scores TEST\n",
    "mae_default = mean_absolute_error(y_test_real, y_pred_test)\n",
    "rmse_default = np.sqrt(mean_squared_error(y_test_real, y_pred_test))\n",
    "\n",
    "print(f\"Train - MAE: {mae_train:.2f}, RMSE: {rmse_train:.2f}\")\n",
    "print(f\"Test  - MAE: {mae_default:.2f}, RMSE: {rmse_default:.2f}\")\n",
    "\n",
    "# Scatter plot\n",
    "plt.figure(figsize=(7,6))\n",
    "sns.scatterplot(x=y_test_real, y=y_pred_test, alpha=0.6)\n",
    "plt.plot([0, max(y_test_real)], [0, max(y_test_real)], color=\"red\", linestyle=\"--\")\n",
    "plt.xlabel(\"Ventes réelles\")\n",
    "plt.ylabel(\"Ventes prédites\")\n",
    "plt.title(\"Prédictions vs Réel (régression avec log-transform)\")\n",
    "plt.show()\n",
    "\n",
    "\n",
    "results = pd.DataFrame([\n",
    "    {\"Modèle\": \"XGBoost (sans log-transform)\", \"MAE\": round(mae_test, 2), \"RMSE\": round(rmse_test, 2)},\n",
    "    {\"Modèle\": \"XGBoost (log-transform)\",   \"MAE\": round(mae_default, 2),     \"RMSE\": round(rmse_default, 2)}\n",
    "])\n",
    "display(results)"
   ]
  },
  {
   "cell_type": "markdown",
   "id": "60031c99-cd9b-4e68-8f53-87a03ab2fee6",
   "metadata": {},
   "source": [
    "### Constat\n",
    "\n",
    "Avec log-transform, les prédictions sont mieux centrées pour les petites et moyennes ventes, mais les grosses ventes sont sous-estimées (MAE diminue mais RMSE augmente).\n",
    "\n",
    "### Décision \n",
    "- Conserver l'approche log-transform pour la modélisation des ventes profitables pour privilégier l’objectif de minimiser les erreurs relatives pour la majorité des ventes (robustesse globale).\n",
    "- Dans un cas réel, je testerais d'autres modèles (ex: linéaires ou RandomForest), mais je me limite à XGBoost pour le home assignment et je vais l'optimiser.\n",
    "- Je vais tout de même comparer à une baseline pour m'assurer que XBoost est meilleur.\n",
    "\n",
    "### Prochaines étapes\n",
    "- Comparaison XGBoost avec baseline\n",
    "- Tuning et plus de Features\n",
    "- Valider la robustesse via cross-validation. "
   ]
  },
  {
   "cell_type": "markdown",
   "id": "81a2a0b4-b7e1-42d5-b319-8f74c85e905c",
   "metadata": {},
   "source": [
    "## Baseline Model (pred = moyenne des ventes du train set)"
   ]
  },
  {
   "cell_type": "code",
   "execution_count": 10,
   "id": "1b1e189c-a4de-4335-a5b3-c93862710518",
   "metadata": {},
   "outputs": [
    {
     "data": {
      "text/html": [
       "<div>\n",
       "<style scoped>\n",
       "    .dataframe tbody tr th:only-of-type {\n",
       "        vertical-align: middle;\n",
       "    }\n",
       "\n",
       "    .dataframe tbody tr th {\n",
       "        vertical-align: top;\n",
       "    }\n",
       "\n",
       "    .dataframe thead th {\n",
       "        text-align: right;\n",
       "    }\n",
       "</style>\n",
       "<table border=\"1\" class=\"dataframe\">\n",
       "  <thead>\n",
       "    <tr style=\"text-align: right;\">\n",
       "      <th></th>\n",
       "      <th>Modèle</th>\n",
       "      <th>MAE</th>\n",
       "      <th>RMSE</th>\n",
       "    </tr>\n",
       "  </thead>\n",
       "  <tbody>\n",
       "    <tr>\n",
       "      <th>0</th>\n",
       "      <td>Baseline (mean predictor)</td>\n",
       "      <td>339.94</td>\n",
       "      <td>529.86</td>\n",
       "    </tr>\n",
       "    <tr>\n",
       "      <th>1</th>\n",
       "      <td>XGBoost (log-transform)</td>\n",
       "      <td>201.28</td>\n",
       "      <td>422.69</td>\n",
       "    </tr>\n",
       "  </tbody>\n",
       "</table>\n",
       "</div>"
      ],
      "text/plain": [
       "                      Modèle     MAE    RMSE\n",
       "0  Baseline (mean predictor)  339.94  529.86\n",
       "1    XGBoost (log-transform)  201.28  422.69"
      ]
     },
     "metadata": {},
     "output_type": "display_data"
    }
   ],
   "source": [
    "baseline_pred = np.repeat(y_train_real.mean(), len(y_test_real))\n",
    "mae_baseline = mean_absolute_error(y_test_real, baseline_pred)\n",
    "rmse_baseline = np.sqrt(mean_squared_error(y_test_real, baseline_pred))\n",
    "results = pd.DataFrame([\n",
    "    {\"Modèle\": \"Baseline (mean predictor)\", \"MAE\": round(mae_baseline, 2), \"RMSE\": round(rmse_baseline, 2)},\n",
    "    {\"Modèle\": \"XGBoost (log-transform)\",   \"MAE\": round(mae_default, 2),     \"RMSE\": round(rmse_default, 2)}\n",
    "])\n",
    "display(results)"
   ]
  },
  {
   "cell_type": "markdown",
   "id": "aeb72361-1260-4c36-abd8-115564f5d49f",
   "metadata": {},
   "source": [
    "### Constat\n",
    "XGBoost reste meilleur que baseline alors on le garde.\n",
    "\n",
    "### Prochaine étape\n",
    "Je vais tuner les hyperparameter de modèle sur certains ranges et appliquer les meilleurs params au modèle."
   ]
  },
  {
   "cell_type": "markdown",
   "id": "39c6e45a-d228-4ea0-8887-1ee9dc47832d",
   "metadata": {},
   "source": [
    "## Tuning XGBoost"
   ]
  },
  {
   "cell_type": "code",
   "execution_count": 11,
   "id": "df00ca48-63e3-4b70-8325-f4c652858196",
   "metadata": {},
   "outputs": [
    {
     "name": "stdout",
     "output_type": "stream",
     "text": [
      "Fitting 3 folds for each of 30 candidates, totalling 90 fits\n",
      "Best params: {'model__colsample_bytree': np.float64(0.8783251227163527), 'model__learning_rate': np.float64(0.18167176096274398), 'model__max_depth': 5, 'model__n_estimators': 246, 'model__reg_alpha': np.float64(0.3486659872917294), 'model__reg_lambda': np.float64(1.4808827554571038), 'model__subsample': np.float64(0.9762093057958416)}\n",
      "Best CV score (log-space RMSE): 0.9674212181430715\n"
     ]
    }
   ],
   "source": [
    "# Range recherche des hyperparamètres\n",
    "param_dist = {\n",
    "    \"model__n_estimators\": randint(100, 400),\n",
    "    \"model__max_depth\": randint(2, 8),\n",
    "    \"model__learning_rate\": uniform(0.01, 0.2),\n",
    "    \"model__subsample\": uniform(0.6, 0.4),\n",
    "    \"model__colsample_bytree\": uniform(0.6, 0.4),\n",
    "    \"model__reg_alpha\": uniform(0, 1),   # L1\n",
    "    \"model__reg_lambda\": uniform(1, 5),  # L2\n",
    "}\n",
    "\n",
    "# RandomizedSearchCV = recherche aléatoire dans l’espace des hyperparamètres\n",
    "search = RandomizedSearchCV(\n",
    "    reg, param_distributions=param_dist,\n",
    "    n_iter=30, scoring=\"neg_root_mean_squared_error\",\n",
    "    cv=3, verbose=1, random_state=42, n_jobs=-1\n",
    ")\n",
    "\n",
    "# Entraînement (avec cible en log)\n",
    "search.fit(X_train_reg, y_train_log)\n",
    "\n",
    "print(\"Best params:\", search.best_params_)\n",
    "print(\"Best CV score (log-space RMSE):\", -search.best_score_)"
   ]
  },
  {
   "cell_type": "code",
   "execution_count": 12,
   "id": "acfa6992-cd98-42d2-b18d-6afa511c5551",
   "metadata": {},
   "outputs": [
    {
     "data": {
      "text/html": [
       "<div>\n",
       "<style scoped>\n",
       "    .dataframe tbody tr th:only-of-type {\n",
       "        vertical-align: middle;\n",
       "    }\n",
       "\n",
       "    .dataframe tbody tr th {\n",
       "        vertical-align: top;\n",
       "    }\n",
       "\n",
       "    .dataframe thead th {\n",
       "        text-align: right;\n",
       "    }\n",
       "</style>\n",
       "<table border=\"1\" class=\"dataframe\">\n",
       "  <thead>\n",
       "    <tr style=\"text-align: right;\">\n",
       "      <th></th>\n",
       "      <th>Modèle</th>\n",
       "      <th>MAE</th>\n",
       "      <th>RMSE</th>\n",
       "    </tr>\n",
       "  </thead>\n",
       "  <tbody>\n",
       "    <tr>\n",
       "      <th>0</th>\n",
       "      <td>Baseline (mean predictor)</td>\n",
       "      <td>339.94</td>\n",
       "      <td>529.86</td>\n",
       "    </tr>\n",
       "    <tr>\n",
       "      <th>1</th>\n",
       "      <td>XGBoost (défaut)</td>\n",
       "      <td>201.28</td>\n",
       "      <td>422.69</td>\n",
       "    </tr>\n",
       "    <tr>\n",
       "      <th>2</th>\n",
       "      <td>XGBoost (tuné)</td>\n",
       "      <td>197.43</td>\n",
       "      <td>419.31</td>\n",
       "    </tr>\n",
       "  </tbody>\n",
       "</table>\n",
       "</div>"
      ],
      "text/plain": [
       "                      Modèle     MAE    RMSE\n",
       "0  Baseline (mean predictor)  339.94  529.86\n",
       "1           XGBoost (défaut)  201.28  422.69\n",
       "2             XGBoost (tuné)  197.43  419.31"
      ]
     },
     "metadata": {},
     "output_type": "display_data"
    },
    {
     "name": "stdout",
     "output_type": "stream",
     "text": [
      "Moyenne des ventes profitables : 338.51\n"
     ]
    }
   ],
   "source": [
    "# Hyperparamètres optimisés\n",
    "best_params = {\n",
    "    \"n_estimators\": 246,\n",
    "    \"learning_rate\": 0.18,\n",
    "    \"max_depth\": 5,\n",
    "    \"subsample\": 0.976,\n",
    "    \"colsample_bytree\": 0.698,\n",
    "    \"reg_alpha\": 0.349,\n",
    "    \"reg_lambda\": 1.48,\n",
    "    \"random_state\": 42\n",
    "}\n",
    "\n",
    "# Pipeline avec préprocessing + modèle XGBRegressor optimisé\n",
    "reg_tuned = Pipeline([\n",
    "    (\"preprocessor\", preprocessor_reg),\n",
    "    (\"model\", XGBRegressor(**best_params))\n",
    "])\n",
    "\n",
    "# Entraînement sur split unique avec target log-transformée\n",
    "reg_tuned.fit(X_train_reg, y_train_log)\n",
    "\n",
    "# Évaluation sur le test set\n",
    "y_pred_test_log = reg_tuned.predict(X_test_reg)   # prédictions en log\n",
    "y_pred_test = np.expm1(y_pred_test_log)           # retour en ventes réelles\n",
    "y_test_real = y_test_reg.values                   # vraies ventes réelles\n",
    "\n",
    "# Calcul des métriques d’erreur\n",
    "mae_tuned = mean_absolute_error(y_test_real, y_pred_test)\n",
    "rmse_tuned = np.sqrt(mean_squared_error(y_test_real, y_pred_test))\n",
    "\n",
    "# Construire un tableau récapitulatif des modèles et scores\n",
    "results = pd.DataFrame([\n",
    "    {\"Modèle\": \"Baseline (mean predictor)\", \"MAE\": round(mae_baseline, 2), \"RMSE\": round(rmse_baseline, 2)},\n",
    "    {\"Modèle\": \"XGBoost (défaut)\",          \"MAE\": round(mae_default, 2),  \"RMSE\": round(rmse_default, 2)},\n",
    "    {\"Modèle\": \"XGBoost (tuné)\",            \"MAE\": round(mae_tuned, 2),    \"RMSE\": round(rmse_tuned, 2)}\n",
    "])\n",
    "\n",
    "display(results)\n",
    "\n",
    "# Moyenne des ventes (Sales) pour les transactions profitables\n",
    "mean_sales_profitable = df[df['is_profitable'] == 1]['Sales'].mean()\n",
    "print(f\"Moyenne des ventes profitables : {mean_sales_profitable:.2f}\")"
   ]
  },
  {
   "cell_type": "markdown",
   "id": "a10b7ca6-1357-4141-98d4-acfbd3c6a493",
   "metadata": {},
   "source": [
    "### Constat\n",
    "- Le modèle tuné est lêgèrement meilleur alors on le conserve\n",
    "\n",
    "### Prochaine étape\n",
    "Je vais encore essayer d'améliorer le modèle en ajoutant des features plus avancés."
   ]
  },
  {
   "cell_type": "markdown",
   "id": "a5ea7da6-06fc-4be5-9a58-c525e9d233e2",
   "metadata": {},
   "source": [
    "## Features avancés"
   ]
  },
  {
   "cell_type": "code",
   "execution_count": 13,
   "id": "ac7c430a-e2b2-4f09-89f9-cdd3180c1ecc",
   "metadata": {},
   "outputs": [
    {
     "name": "stdout",
     "output_type": "stream",
     "text": [
      "✅ Dataset enrichi exporté dans ../data/processed/stores_sales_forecasting_processed.csv\n"
     ]
    },
    {
     "data": {
      "text/html": [
       "<div>\n",
       "<style scoped>\n",
       "    .dataframe tbody tr th:only-of-type {\n",
       "        vertical-align: middle;\n",
       "    }\n",
       "\n",
       "    .dataframe tbody tr th {\n",
       "        vertical-align: top;\n",
       "    }\n",
       "\n",
       "    .dataframe thead th {\n",
       "        text-align: right;\n",
       "    }\n",
       "</style>\n",
       "<table border=\"1\" class=\"dataframe\">\n",
       "  <thead>\n",
       "    <tr style=\"text-align: right;\">\n",
       "      <th></th>\n",
       "      <th>Modèle</th>\n",
       "      <th>MAE</th>\n",
       "      <th>RMSE</th>\n",
       "    </tr>\n",
       "  </thead>\n",
       "  <tbody>\n",
       "    <tr>\n",
       "      <th>0</th>\n",
       "      <td>Baseline (mean predictor)</td>\n",
       "      <td>339.94</td>\n",
       "      <td>529.86</td>\n",
       "    </tr>\n",
       "    <tr>\n",
       "      <th>1</th>\n",
       "      <td>XGBoost (défaut)</td>\n",
       "      <td>201.28</td>\n",
       "      <td>422.69</td>\n",
       "    </tr>\n",
       "    <tr>\n",
       "      <th>2</th>\n",
       "      <td>XGBoost (tuné)</td>\n",
       "      <td>197.43</td>\n",
       "      <td>419.31</td>\n",
       "    </tr>\n",
       "    <tr>\n",
       "      <th>3</th>\n",
       "      <td>XGBoost (tuné + features)</td>\n",
       "      <td>200.91</td>\n",
       "      <td>421.51</td>\n",
       "    </tr>\n",
       "  </tbody>\n",
       "</table>\n",
       "</div>"
      ],
      "text/plain": [
       "                      Modèle     MAE    RMSE\n",
       "0  Baseline (mean predictor)  339.94  529.86\n",
       "1           XGBoost (défaut)  201.28  422.69\n",
       "2             XGBoost (tuné)  197.43  419.31\n",
       "3  XGBoost (tuné + features)  200.91  421.51"
      ]
     },
     "metadata": {},
     "output_type": "display_data"
    }
   ],
   "source": [
    "# Filtrer uniquement les transactions profitables\n",
    "df_reg = df[df['is_profitable'] == 1].copy()\n",
    "\n",
    "# Feature 1 : cyclicité \n",
    "df_reg[\"DayOfWeek_sin\"] = np.sin(2 * np.pi * df_reg[\"Order_DayOfWeek\"] / 7)\n",
    "df_reg[\"DayOfWeek_cos\"] = np.cos(2 * np.pi * df_reg[\"Order_DayOfWeek\"] / 7)\n",
    "\n",
    "df_reg[\"Month_sin\"] = np.sin(2 * np.pi * df_reg[\"Order_Month\"] / 12)\n",
    "df_reg[\"Month_cos\"] = np.cos(2 * np.pi * df_reg[\"Order_Month\"] / 12)\n",
    "\n",
    "df_reg[\"Quarter_sin\"] = np.sin(2 * np.pi * df_reg[\"Order_Quarter\"] / 4)\n",
    "df_reg[\"Quarter_cos\"] = np.cos(2 * np.pi * df_reg[\"Order_Quarter\"] / 4)\n",
    "\n",
    "# Feature 2 : moyennes groupées\n",
    "df_reg['State_Avg_Sales'] = df_reg.groupby('State')['Sales'].transform('mean')\n",
    "df_reg['Category_Avg_Sales'] = df_reg.groupby('Sub-Category')['Sales'].transform('mean')\n",
    "\n",
    "# Feature 3 : flag high discount \n",
    "df_reg['High_Discount'] = (df_reg['Discount'] > 0.3).astype(int)\n",
    "\n",
    "# Reconstruire X avec les nouvelles colonnes\n",
    "base_features = [\n",
    "    f for f in num_features_reg\n",
    "    if f not in ['Order_DayOfWeek', 'Order_Month', 'Order_Quarter', 'Order_Year']\n",
    "]\n",
    "\n",
    "X_reg_features = df_reg[\n",
    "    base_features + cat_features_reg +\n",
    "    [\n",
    "        'State_Avg_Sales', 'Category_Avg_Sales', 'High_Discount',\n",
    "        'DayOfWeek_sin','DayOfWeek_cos',\n",
    "        'Month_sin','Month_cos',\n",
    "        'Quarter_sin','Quarter_cos'\n",
    "    ]\n",
    "]\n",
    "y_reg = df_reg['Sales']\n",
    "\n",
    "processed_path = \"../data/processed/stores_sales_forecasting_processed.csv\"\n",
    "df_reg.to_csv(processed_path, index=False)\n",
    "print(f\"✅ Dataset enrichi exporté dans {processed_path}\")\n",
    "\n",
    "# On ne refait PAS de split, on réutilise les indices du split unique\n",
    "X_train_features = X_reg_features.loc[X_train_reg.index]\n",
    "X_test_features  = X_reg_features.loc[X_test_reg.index]\n",
    "y_train_features = np.log1p(y_train_reg)   # cible en log pour entraînement\n",
    "y_test_real = y_test_reg.values            # valeurs réelles pour évaluation\n",
    "\n",
    "\n",
    "# Réentraîner le modèle avec features avancées\n",
    "reg_tuned.fit(X_train_features, y_train_features)\n",
    "\n",
    "# Prédictions TEST\n",
    "y_pred_test_log = reg_tuned.predict(X_test_features)\n",
    "y_pred_test = np.expm1(y_pred_test_log)\n",
    "\n",
    "# Scores\n",
    "mae_test_features = mean_absolute_error(y_test_real, y_pred_test)\n",
    "rmse_test_features = np.sqrt(mean_squared_error(y_test_real, y_pred_test))\n",
    "\n",
    "# Construire un tableau récapitulatif des modèles et scores\n",
    "results = pd.DataFrame([\n",
    "    {\"Modèle\": \"Baseline (mean predictor)\", \"MAE\": round(mae_baseline, 2), \"RMSE\": round(rmse_baseline, 2)},\n",
    "    {\"Modèle\": \"XGBoost (défaut)\",          \"MAE\": round(mae_default, 2),     \"RMSE\": round(rmse_default, 2)},\n",
    "    {\"Modèle\": \"XGBoost (tuné)\",            \"MAE\": round(mae_tuned, 2),          \"RMSE\": round(rmse_tuned, 2)},\n",
    "    {\"Modèle\": \"XGBoost (tuné + features)\", \"MAE\": round(mae_test_features, 2),          \"RMSE\": round(rmse_test_features, 2)}\n",
    "])\n",
    "\n",
    "display(results)"
   ]
  },
  {
   "cell_type": "markdown",
   "id": "12997c51-4063-45fe-b0c7-ff21adddee30",
   "metadata": {},
   "source": [
    "### Constat\n",
    "- Très proche du modèle seulement tuné, légèrement moins bon, donc les features avancées n’apportent pas de valeur significative (elles introduisent probablement du bruit ou de la redondance). Je conserve donc le modèle XGBoost (tuné).\n",
    "- Les prédictions s’écartent en moyenne d’environ 200 $ des ventes réelles par transaction; c'est beaucoup considérant une moyenne d'environ 339 par vente profitable.\n",
    "\n",
    "### Décision\n",
    "Pour ce projet, je m’arrête à ce stade, mais dans une situation réelle, j’aurais poursuivi l’analyse en testant d’autres types de modèles et en faisant davantage de tuning et test de features. \n",
    "\n",
    "### Prochaine étape\n",
    "Pour la suite, je vais supposer que le modèle est satisfaisant et je vais faire: \n",
    "- cross-validation pour assurer la robustesse du modèle"
   ]
  },
  {
   "cell_type": "code",
   "execution_count": 24,
   "id": "94ddd45c-4e16-4d8d-ba09-ca7cd1dd00f7",
   "metadata": {},
   "outputs": [
    {
     "data": {
      "text/html": [
       "<style>#sk-container-id-3 {\n",
       "  /* Definition of color scheme common for light and dark mode */\n",
       "  --sklearn-color-text: #000;\n",
       "  --sklearn-color-text-muted: #666;\n",
       "  --sklearn-color-line: gray;\n",
       "  /* Definition of color scheme for unfitted estimators */\n",
       "  --sklearn-color-unfitted-level-0: #fff5e6;\n",
       "  --sklearn-color-unfitted-level-1: #f6e4d2;\n",
       "  --sklearn-color-unfitted-level-2: #ffe0b3;\n",
       "  --sklearn-color-unfitted-level-3: chocolate;\n",
       "  /* Definition of color scheme for fitted estimators */\n",
       "  --sklearn-color-fitted-level-0: #f0f8ff;\n",
       "  --sklearn-color-fitted-level-1: #d4ebff;\n",
       "  --sklearn-color-fitted-level-2: #b3dbfd;\n",
       "  --sklearn-color-fitted-level-3: cornflowerblue;\n",
       "\n",
       "  /* Specific color for light theme */\n",
       "  --sklearn-color-text-on-default-background: var(--sg-text-color, var(--theme-code-foreground, var(--jp-content-font-color1, black)));\n",
       "  --sklearn-color-background: var(--sg-background-color, var(--theme-background, var(--jp-layout-color0, white)));\n",
       "  --sklearn-color-border-box: var(--sg-text-color, var(--theme-code-foreground, var(--jp-content-font-color1, black)));\n",
       "  --sklearn-color-icon: #696969;\n",
       "\n",
       "  @media (prefers-color-scheme: dark) {\n",
       "    /* Redefinition of color scheme for dark theme */\n",
       "    --sklearn-color-text-on-default-background: var(--sg-text-color, var(--theme-code-foreground, var(--jp-content-font-color1, white)));\n",
       "    --sklearn-color-background: var(--sg-background-color, var(--theme-background, var(--jp-layout-color0, #111)));\n",
       "    --sklearn-color-border-box: var(--sg-text-color, var(--theme-code-foreground, var(--jp-content-font-color1, white)));\n",
       "    --sklearn-color-icon: #878787;\n",
       "  }\n",
       "}\n",
       "\n",
       "#sk-container-id-3 {\n",
       "  color: var(--sklearn-color-text);\n",
       "}\n",
       "\n",
       "#sk-container-id-3 pre {\n",
       "  padding: 0;\n",
       "}\n",
       "\n",
       "#sk-container-id-3 input.sk-hidden--visually {\n",
       "  border: 0;\n",
       "  clip: rect(1px 1px 1px 1px);\n",
       "  clip: rect(1px, 1px, 1px, 1px);\n",
       "  height: 1px;\n",
       "  margin: -1px;\n",
       "  overflow: hidden;\n",
       "  padding: 0;\n",
       "  position: absolute;\n",
       "  width: 1px;\n",
       "}\n",
       "\n",
       "#sk-container-id-3 div.sk-dashed-wrapped {\n",
       "  border: 1px dashed var(--sklearn-color-line);\n",
       "  margin: 0 0.4em 0.5em 0.4em;\n",
       "  box-sizing: border-box;\n",
       "  padding-bottom: 0.4em;\n",
       "  background-color: var(--sklearn-color-background);\n",
       "}\n",
       "\n",
       "#sk-container-id-3 div.sk-container {\n",
       "  /* jupyter's `normalize.less` sets `[hidden] { display: none; }`\n",
       "     but bootstrap.min.css set `[hidden] { display: none !important; }`\n",
       "     so we also need the `!important` here to be able to override the\n",
       "     default hidden behavior on the sphinx rendered scikit-learn.org.\n",
       "     See: https://github.com/scikit-learn/scikit-learn/issues/21755 */\n",
       "  display: inline-block !important;\n",
       "  position: relative;\n",
       "}\n",
       "\n",
       "#sk-container-id-3 div.sk-text-repr-fallback {\n",
       "  display: none;\n",
       "}\n",
       "\n",
       "div.sk-parallel-item,\n",
       "div.sk-serial,\n",
       "div.sk-item {\n",
       "  /* draw centered vertical line to link estimators */\n",
       "  background-image: linear-gradient(var(--sklearn-color-text-on-default-background), var(--sklearn-color-text-on-default-background));\n",
       "  background-size: 2px 100%;\n",
       "  background-repeat: no-repeat;\n",
       "  background-position: center center;\n",
       "}\n",
       "\n",
       "/* Parallel-specific style estimator block */\n",
       "\n",
       "#sk-container-id-3 div.sk-parallel-item::after {\n",
       "  content: \"\";\n",
       "  width: 100%;\n",
       "  border-bottom: 2px solid var(--sklearn-color-text-on-default-background);\n",
       "  flex-grow: 1;\n",
       "}\n",
       "\n",
       "#sk-container-id-3 div.sk-parallel {\n",
       "  display: flex;\n",
       "  align-items: stretch;\n",
       "  justify-content: center;\n",
       "  background-color: var(--sklearn-color-background);\n",
       "  position: relative;\n",
       "}\n",
       "\n",
       "#sk-container-id-3 div.sk-parallel-item {\n",
       "  display: flex;\n",
       "  flex-direction: column;\n",
       "}\n",
       "\n",
       "#sk-container-id-3 div.sk-parallel-item:first-child::after {\n",
       "  align-self: flex-end;\n",
       "  width: 50%;\n",
       "}\n",
       "\n",
       "#sk-container-id-3 div.sk-parallel-item:last-child::after {\n",
       "  align-self: flex-start;\n",
       "  width: 50%;\n",
       "}\n",
       "\n",
       "#sk-container-id-3 div.sk-parallel-item:only-child::after {\n",
       "  width: 0;\n",
       "}\n",
       "\n",
       "/* Serial-specific style estimator block */\n",
       "\n",
       "#sk-container-id-3 div.sk-serial {\n",
       "  display: flex;\n",
       "  flex-direction: column;\n",
       "  align-items: center;\n",
       "  background-color: var(--sklearn-color-background);\n",
       "  padding-right: 1em;\n",
       "  padding-left: 1em;\n",
       "}\n",
       "\n",
       "\n",
       "/* Toggleable style: style used for estimator/Pipeline/ColumnTransformer box that is\n",
       "clickable and can be expanded/collapsed.\n",
       "- Pipeline and ColumnTransformer use this feature and define the default style\n",
       "- Estimators will overwrite some part of the style using the `sk-estimator` class\n",
       "*/\n",
       "\n",
       "/* Pipeline and ColumnTransformer style (default) */\n",
       "\n",
       "#sk-container-id-3 div.sk-toggleable {\n",
       "  /* Default theme specific background. It is overwritten whether we have a\n",
       "  specific estimator or a Pipeline/ColumnTransformer */\n",
       "  background-color: var(--sklearn-color-background);\n",
       "}\n",
       "\n",
       "/* Toggleable label */\n",
       "#sk-container-id-3 label.sk-toggleable__label {\n",
       "  cursor: pointer;\n",
       "  display: flex;\n",
       "  width: 100%;\n",
       "  margin-bottom: 0;\n",
       "  padding: 0.5em;\n",
       "  box-sizing: border-box;\n",
       "  text-align: center;\n",
       "  align-items: start;\n",
       "  justify-content: space-between;\n",
       "  gap: 0.5em;\n",
       "}\n",
       "\n",
       "#sk-container-id-3 label.sk-toggleable__label .caption {\n",
       "  font-size: 0.6rem;\n",
       "  font-weight: lighter;\n",
       "  color: var(--sklearn-color-text-muted);\n",
       "}\n",
       "\n",
       "#sk-container-id-3 label.sk-toggleable__label-arrow:before {\n",
       "  /* Arrow on the left of the label */\n",
       "  content: \"▸\";\n",
       "  float: left;\n",
       "  margin-right: 0.25em;\n",
       "  color: var(--sklearn-color-icon);\n",
       "}\n",
       "\n",
       "#sk-container-id-3 label.sk-toggleable__label-arrow:hover:before {\n",
       "  color: var(--sklearn-color-text);\n",
       "}\n",
       "\n",
       "/* Toggleable content - dropdown */\n",
       "\n",
       "#sk-container-id-3 div.sk-toggleable__content {\n",
       "  max-height: 0;\n",
       "  max-width: 0;\n",
       "  overflow: hidden;\n",
       "  text-align: left;\n",
       "  /* unfitted */\n",
       "  background-color: var(--sklearn-color-unfitted-level-0);\n",
       "}\n",
       "\n",
       "#sk-container-id-3 div.sk-toggleable__content.fitted {\n",
       "  /* fitted */\n",
       "  background-color: var(--sklearn-color-fitted-level-0);\n",
       "}\n",
       "\n",
       "#sk-container-id-3 div.sk-toggleable__content pre {\n",
       "  margin: 0.2em;\n",
       "  border-radius: 0.25em;\n",
       "  color: var(--sklearn-color-text);\n",
       "  /* unfitted */\n",
       "  background-color: var(--sklearn-color-unfitted-level-0);\n",
       "}\n",
       "\n",
       "#sk-container-id-3 div.sk-toggleable__content.fitted pre {\n",
       "  /* unfitted */\n",
       "  background-color: var(--sklearn-color-fitted-level-0);\n",
       "}\n",
       "\n",
       "#sk-container-id-3 input.sk-toggleable__control:checked~div.sk-toggleable__content {\n",
       "  /* Expand drop-down */\n",
       "  max-height: 200px;\n",
       "  max-width: 100%;\n",
       "  overflow: auto;\n",
       "}\n",
       "\n",
       "#sk-container-id-3 input.sk-toggleable__control:checked~label.sk-toggleable__label-arrow:before {\n",
       "  content: \"▾\";\n",
       "}\n",
       "\n",
       "/* Pipeline/ColumnTransformer-specific style */\n",
       "\n",
       "#sk-container-id-3 div.sk-label input.sk-toggleable__control:checked~label.sk-toggleable__label {\n",
       "  color: var(--sklearn-color-text);\n",
       "  background-color: var(--sklearn-color-unfitted-level-2);\n",
       "}\n",
       "\n",
       "#sk-container-id-3 div.sk-label.fitted input.sk-toggleable__control:checked~label.sk-toggleable__label {\n",
       "  background-color: var(--sklearn-color-fitted-level-2);\n",
       "}\n",
       "\n",
       "/* Estimator-specific style */\n",
       "\n",
       "/* Colorize estimator box */\n",
       "#sk-container-id-3 div.sk-estimator input.sk-toggleable__control:checked~label.sk-toggleable__label {\n",
       "  /* unfitted */\n",
       "  background-color: var(--sklearn-color-unfitted-level-2);\n",
       "}\n",
       "\n",
       "#sk-container-id-3 div.sk-estimator.fitted input.sk-toggleable__control:checked~label.sk-toggleable__label {\n",
       "  /* fitted */\n",
       "  background-color: var(--sklearn-color-fitted-level-2);\n",
       "}\n",
       "\n",
       "#sk-container-id-3 div.sk-label label.sk-toggleable__label,\n",
       "#sk-container-id-3 div.sk-label label {\n",
       "  /* The background is the default theme color */\n",
       "  color: var(--sklearn-color-text-on-default-background);\n",
       "}\n",
       "\n",
       "/* On hover, darken the color of the background */\n",
       "#sk-container-id-3 div.sk-label:hover label.sk-toggleable__label {\n",
       "  color: var(--sklearn-color-text);\n",
       "  background-color: var(--sklearn-color-unfitted-level-2);\n",
       "}\n",
       "\n",
       "/* Label box, darken color on hover, fitted */\n",
       "#sk-container-id-3 div.sk-label.fitted:hover label.sk-toggleable__label.fitted {\n",
       "  color: var(--sklearn-color-text);\n",
       "  background-color: var(--sklearn-color-fitted-level-2);\n",
       "}\n",
       "\n",
       "/* Estimator label */\n",
       "\n",
       "#sk-container-id-3 div.sk-label label {\n",
       "  font-family: monospace;\n",
       "  font-weight: bold;\n",
       "  display: inline-block;\n",
       "  line-height: 1.2em;\n",
       "}\n",
       "\n",
       "#sk-container-id-3 div.sk-label-container {\n",
       "  text-align: center;\n",
       "}\n",
       "\n",
       "/* Estimator-specific */\n",
       "#sk-container-id-3 div.sk-estimator {\n",
       "  font-family: monospace;\n",
       "  border: 1px dotted var(--sklearn-color-border-box);\n",
       "  border-radius: 0.25em;\n",
       "  box-sizing: border-box;\n",
       "  margin-bottom: 0.5em;\n",
       "  /* unfitted */\n",
       "  background-color: var(--sklearn-color-unfitted-level-0);\n",
       "}\n",
       "\n",
       "#sk-container-id-3 div.sk-estimator.fitted {\n",
       "  /* fitted */\n",
       "  background-color: var(--sklearn-color-fitted-level-0);\n",
       "}\n",
       "\n",
       "/* on hover */\n",
       "#sk-container-id-3 div.sk-estimator:hover {\n",
       "  /* unfitted */\n",
       "  background-color: var(--sklearn-color-unfitted-level-2);\n",
       "}\n",
       "\n",
       "#sk-container-id-3 div.sk-estimator.fitted:hover {\n",
       "  /* fitted */\n",
       "  background-color: var(--sklearn-color-fitted-level-2);\n",
       "}\n",
       "\n",
       "/* Specification for estimator info (e.g. \"i\" and \"?\") */\n",
       "\n",
       "/* Common style for \"i\" and \"?\" */\n",
       "\n",
       ".sk-estimator-doc-link,\n",
       "a:link.sk-estimator-doc-link,\n",
       "a:visited.sk-estimator-doc-link {\n",
       "  float: right;\n",
       "  font-size: smaller;\n",
       "  line-height: 1em;\n",
       "  font-family: monospace;\n",
       "  background-color: var(--sklearn-color-background);\n",
       "  border-radius: 1em;\n",
       "  height: 1em;\n",
       "  width: 1em;\n",
       "  text-decoration: none !important;\n",
       "  margin-left: 0.5em;\n",
       "  text-align: center;\n",
       "  /* unfitted */\n",
       "  border: var(--sklearn-color-unfitted-level-1) 1pt solid;\n",
       "  color: var(--sklearn-color-unfitted-level-1);\n",
       "}\n",
       "\n",
       ".sk-estimator-doc-link.fitted,\n",
       "a:link.sk-estimator-doc-link.fitted,\n",
       "a:visited.sk-estimator-doc-link.fitted {\n",
       "  /* fitted */\n",
       "  border: var(--sklearn-color-fitted-level-1) 1pt solid;\n",
       "  color: var(--sklearn-color-fitted-level-1);\n",
       "}\n",
       "\n",
       "/* On hover */\n",
       "div.sk-estimator:hover .sk-estimator-doc-link:hover,\n",
       ".sk-estimator-doc-link:hover,\n",
       "div.sk-label-container:hover .sk-estimator-doc-link:hover,\n",
       ".sk-estimator-doc-link:hover {\n",
       "  /* unfitted */\n",
       "  background-color: var(--sklearn-color-unfitted-level-3);\n",
       "  color: var(--sklearn-color-background);\n",
       "  text-decoration: none;\n",
       "}\n",
       "\n",
       "div.sk-estimator.fitted:hover .sk-estimator-doc-link.fitted:hover,\n",
       ".sk-estimator-doc-link.fitted:hover,\n",
       "div.sk-label-container:hover .sk-estimator-doc-link.fitted:hover,\n",
       ".sk-estimator-doc-link.fitted:hover {\n",
       "  /* fitted */\n",
       "  background-color: var(--sklearn-color-fitted-level-3);\n",
       "  color: var(--sklearn-color-background);\n",
       "  text-decoration: none;\n",
       "}\n",
       "\n",
       "/* Span, style for the box shown on hovering the info icon */\n",
       ".sk-estimator-doc-link span {\n",
       "  display: none;\n",
       "  z-index: 9999;\n",
       "  position: relative;\n",
       "  font-weight: normal;\n",
       "  right: .2ex;\n",
       "  padding: .5ex;\n",
       "  margin: .5ex;\n",
       "  width: min-content;\n",
       "  min-width: 20ex;\n",
       "  max-width: 50ex;\n",
       "  color: var(--sklearn-color-text);\n",
       "  box-shadow: 2pt 2pt 4pt #999;\n",
       "  /* unfitted */\n",
       "  background: var(--sklearn-color-unfitted-level-0);\n",
       "  border: .5pt solid var(--sklearn-color-unfitted-level-3);\n",
       "}\n",
       "\n",
       ".sk-estimator-doc-link.fitted span {\n",
       "  /* fitted */\n",
       "  background: var(--sklearn-color-fitted-level-0);\n",
       "  border: var(--sklearn-color-fitted-level-3);\n",
       "}\n",
       "\n",
       ".sk-estimator-doc-link:hover span {\n",
       "  display: block;\n",
       "}\n",
       "\n",
       "/* \"?\"-specific style due to the `<a>` HTML tag */\n",
       "\n",
       "#sk-container-id-3 a.estimator_doc_link {\n",
       "  float: right;\n",
       "  font-size: 1rem;\n",
       "  line-height: 1em;\n",
       "  font-family: monospace;\n",
       "  background-color: var(--sklearn-color-background);\n",
       "  border-radius: 1rem;\n",
       "  height: 1rem;\n",
       "  width: 1rem;\n",
       "  text-decoration: none;\n",
       "  /* unfitted */\n",
       "  color: var(--sklearn-color-unfitted-level-1);\n",
       "  border: var(--sklearn-color-unfitted-level-1) 1pt solid;\n",
       "}\n",
       "\n",
       "#sk-container-id-3 a.estimator_doc_link.fitted {\n",
       "  /* fitted */\n",
       "  border: var(--sklearn-color-fitted-level-1) 1pt solid;\n",
       "  color: var(--sklearn-color-fitted-level-1);\n",
       "}\n",
       "\n",
       "/* On hover */\n",
       "#sk-container-id-3 a.estimator_doc_link:hover {\n",
       "  /* unfitted */\n",
       "  background-color: var(--sklearn-color-unfitted-level-3);\n",
       "  color: var(--sklearn-color-background);\n",
       "  text-decoration: none;\n",
       "}\n",
       "\n",
       "#sk-container-id-3 a.estimator_doc_link.fitted:hover {\n",
       "  /* fitted */\n",
       "  background-color: var(--sklearn-color-fitted-level-3);\n",
       "}\n",
       "</style><div id=\"sk-container-id-3\" class=\"sk-top-container\"><div class=\"sk-text-repr-fallback\"><pre>Pipeline(steps=[(&#x27;preprocessor&#x27;,\n",
       "                 ColumnTransformer(remainder=&#x27;passthrough&#x27;,\n",
       "                                   transformers=[(&#x27;cat&#x27;,\n",
       "                                                  OneHotEncoder(handle_unknown=&#x27;ignore&#x27;),\n",
       "                                                  [&#x27;Ship Mode&#x27;, &#x27;Segment&#x27;,\n",
       "                                                   &#x27;City&#x27;, &#x27;Region&#x27;,\n",
       "                                                   &#x27;Sub-Category&#x27;, &#x27;State&#x27;,\n",
       "                                                   &#x27;Product ID&#x27;,\n",
       "                                                   &#x27;Customer ID&#x27;])])),\n",
       "                (&#x27;model&#x27;,\n",
       "                 XGBRegressor(base_score=None, booster=None, callbacks=None,\n",
       "                              colsample_bylevel=None, colsample_bynode=None,\n",
       "                              colsample_bytr...\n",
       "                              feature_types=None, gamma=None, grow_policy=None,\n",
       "                              importance_type=None,\n",
       "                              interaction_constraints=None, learning_rate=0.18,\n",
       "                              max_bin=None, max_cat_threshold=None,\n",
       "                              max_cat_to_onehot=None, max_delta_step=None,\n",
       "                              max_depth=5, max_leaves=None,\n",
       "                              min_child_weight=None, missing=nan,\n",
       "                              monotone_constraints=None, multi_strategy=None,\n",
       "                              n_estimators=246, n_jobs=None,\n",
       "                              num_parallel_tree=None, random_state=42, ...))])</pre><b>In a Jupyter environment, please rerun this cell to show the HTML representation or trust the notebook. <br />On GitHub, the HTML representation is unable to render, please try loading this page with nbviewer.org.</b></div><div class=\"sk-container\" hidden><div class=\"sk-item sk-dashed-wrapped\"><div class=\"sk-label-container\"><div class=\"sk-label fitted sk-toggleable\"><input class=\"sk-toggleable__control sk-hidden--visually\" id=\"sk-estimator-id-15\" type=\"checkbox\" ><label for=\"sk-estimator-id-15\" class=\"sk-toggleable__label fitted sk-toggleable__label-arrow\"><div><div>Pipeline</div></div><div><a class=\"sk-estimator-doc-link fitted\" rel=\"noreferrer\" target=\"_blank\" href=\"https://scikit-learn.org/1.6/modules/generated/sklearn.pipeline.Pipeline.html\">?<span>Documentation for Pipeline</span></a><span class=\"sk-estimator-doc-link fitted\">i<span>Fitted</span></span></div></label><div class=\"sk-toggleable__content fitted\"><pre>Pipeline(steps=[(&#x27;preprocessor&#x27;,\n",
       "                 ColumnTransformer(remainder=&#x27;passthrough&#x27;,\n",
       "                                   transformers=[(&#x27;cat&#x27;,\n",
       "                                                  OneHotEncoder(handle_unknown=&#x27;ignore&#x27;),\n",
       "                                                  [&#x27;Ship Mode&#x27;, &#x27;Segment&#x27;,\n",
       "                                                   &#x27;City&#x27;, &#x27;Region&#x27;,\n",
       "                                                   &#x27;Sub-Category&#x27;, &#x27;State&#x27;,\n",
       "                                                   &#x27;Product ID&#x27;,\n",
       "                                                   &#x27;Customer ID&#x27;])])),\n",
       "                (&#x27;model&#x27;,\n",
       "                 XGBRegressor(base_score=None, booster=None, callbacks=None,\n",
       "                              colsample_bylevel=None, colsample_bynode=None,\n",
       "                              colsample_bytr...\n",
       "                              feature_types=None, gamma=None, grow_policy=None,\n",
       "                              importance_type=None,\n",
       "                              interaction_constraints=None, learning_rate=0.18,\n",
       "                              max_bin=None, max_cat_threshold=None,\n",
       "                              max_cat_to_onehot=None, max_delta_step=None,\n",
       "                              max_depth=5, max_leaves=None,\n",
       "                              min_child_weight=None, missing=nan,\n",
       "                              monotone_constraints=None, multi_strategy=None,\n",
       "                              n_estimators=246, n_jobs=None,\n",
       "                              num_parallel_tree=None, random_state=42, ...))])</pre></div> </div></div><div class=\"sk-serial\"><div class=\"sk-item sk-dashed-wrapped\"><div class=\"sk-label-container\"><div class=\"sk-label fitted sk-toggleable\"><input class=\"sk-toggleable__control sk-hidden--visually\" id=\"sk-estimator-id-16\" type=\"checkbox\" ><label for=\"sk-estimator-id-16\" class=\"sk-toggleable__label fitted sk-toggleable__label-arrow\"><div><div>preprocessor: ColumnTransformer</div></div><div><a class=\"sk-estimator-doc-link fitted\" rel=\"noreferrer\" target=\"_blank\" href=\"https://scikit-learn.org/1.6/modules/generated/sklearn.compose.ColumnTransformer.html\">?<span>Documentation for preprocessor: ColumnTransformer</span></a></div></label><div class=\"sk-toggleable__content fitted\"><pre>ColumnTransformer(remainder=&#x27;passthrough&#x27;,\n",
       "                  transformers=[(&#x27;cat&#x27;, OneHotEncoder(handle_unknown=&#x27;ignore&#x27;),\n",
       "                                 [&#x27;Ship Mode&#x27;, &#x27;Segment&#x27;, &#x27;City&#x27;, &#x27;Region&#x27;,\n",
       "                                  &#x27;Sub-Category&#x27;, &#x27;State&#x27;, &#x27;Product ID&#x27;,\n",
       "                                  &#x27;Customer ID&#x27;])])</pre></div> </div></div><div class=\"sk-parallel\"><div class=\"sk-parallel-item\"><div class=\"sk-item\"><div class=\"sk-label-container\"><div class=\"sk-label fitted sk-toggleable\"><input class=\"sk-toggleable__control sk-hidden--visually\" id=\"sk-estimator-id-17\" type=\"checkbox\" ><label for=\"sk-estimator-id-17\" class=\"sk-toggleable__label fitted sk-toggleable__label-arrow\"><div><div>cat</div></div></label><div class=\"sk-toggleable__content fitted\"><pre>[&#x27;Ship Mode&#x27;, &#x27;Segment&#x27;, &#x27;City&#x27;, &#x27;Region&#x27;, &#x27;Sub-Category&#x27;, &#x27;State&#x27;, &#x27;Product ID&#x27;, &#x27;Customer ID&#x27;]</pre></div> </div></div><div class=\"sk-serial\"><div class=\"sk-item\"><div class=\"sk-estimator fitted sk-toggleable\"><input class=\"sk-toggleable__control sk-hidden--visually\" id=\"sk-estimator-id-18\" type=\"checkbox\" ><label for=\"sk-estimator-id-18\" class=\"sk-toggleable__label fitted sk-toggleable__label-arrow\"><div><div>OneHotEncoder</div></div><div><a class=\"sk-estimator-doc-link fitted\" rel=\"noreferrer\" target=\"_blank\" href=\"https://scikit-learn.org/1.6/modules/generated/sklearn.preprocessing.OneHotEncoder.html\">?<span>Documentation for OneHotEncoder</span></a></div></label><div class=\"sk-toggleable__content fitted\"><pre>OneHotEncoder(handle_unknown=&#x27;ignore&#x27;)</pre></div> </div></div></div></div></div><div class=\"sk-parallel-item\"><div class=\"sk-item\"><div class=\"sk-label-container\"><div class=\"sk-label fitted sk-toggleable\"><input class=\"sk-toggleable__control sk-hidden--visually\" id=\"sk-estimator-id-19\" type=\"checkbox\" ><label for=\"sk-estimator-id-19\" class=\"sk-toggleable__label fitted sk-toggleable__label-arrow\"><div><div>remainder</div></div></label><div class=\"sk-toggleable__content fitted\"><pre>[&#x27;Discount&#x27;, &#x27;Order_Year&#x27;, &#x27;Order_Month&#x27;, &#x27;Order_DayOfWeek&#x27;, &#x27;Order_Quarter&#x27;, &#x27;Is_EndOfYear&#x27;, &#x27;Delivery_Days&#x27;]</pre></div> </div></div><div class=\"sk-serial\"><div class=\"sk-item\"><div class=\"sk-estimator fitted sk-toggleable\"><input class=\"sk-toggleable__control sk-hidden--visually\" id=\"sk-estimator-id-20\" type=\"checkbox\" ><label for=\"sk-estimator-id-20\" class=\"sk-toggleable__label fitted sk-toggleable__label-arrow\"><div><div>passthrough</div></div></label><div class=\"sk-toggleable__content fitted\"><pre>passthrough</pre></div> </div></div></div></div></div></div></div><div class=\"sk-item\"><div class=\"sk-estimator fitted sk-toggleable\"><input class=\"sk-toggleable__control sk-hidden--visually\" id=\"sk-estimator-id-21\" type=\"checkbox\" ><label for=\"sk-estimator-id-21\" class=\"sk-toggleable__label fitted sk-toggleable__label-arrow\"><div><div>XGBRegressor</div></div></label><div class=\"sk-toggleable__content fitted\"><pre>XGBRegressor(base_score=None, booster=None, callbacks=None,\n",
       "             colsample_bylevel=None, colsample_bynode=None,\n",
       "             colsample_bytree=0.698, device=None, early_stopping_rounds=None,\n",
       "             enable_categorical=False, eval_metric=None, feature_types=None,\n",
       "             gamma=None, grow_policy=None, importance_type=None,\n",
       "             interaction_constraints=None, learning_rate=0.18, max_bin=None,\n",
       "             max_cat_threshold=None, max_cat_to_onehot=None,\n",
       "             max_delta_step=None, max_depth=5, max_leaves=None,\n",
       "             min_child_weight=None, missing=nan, monotone_constraints=None,\n",
       "             multi_strategy=None, n_estimators=246, n_jobs=None,\n",
       "             num_parallel_tree=None, random_state=42, ...)</pre></div> </div></div></div></div></div></div>"
      ],
      "text/plain": [
       "Pipeline(steps=[('preprocessor',\n",
       "                 ColumnTransformer(remainder='passthrough',\n",
       "                                   transformers=[('cat',\n",
       "                                                  OneHotEncoder(handle_unknown='ignore'),\n",
       "                                                  ['Ship Mode', 'Segment',\n",
       "                                                   'City', 'Region',\n",
       "                                                   'Sub-Category', 'State',\n",
       "                                                   'Product ID',\n",
       "                                                   'Customer ID'])])),\n",
       "                ('model',\n",
       "                 XGBRegressor(base_score=None, booster=None, callbacks=None,\n",
       "                              colsample_bylevel=None, colsample_bynode=None,\n",
       "                              colsample_bytr...\n",
       "                              feature_types=None, gamma=None, grow_policy=None,\n",
       "                              importance_type=None,\n",
       "                              interaction_constraints=None, learning_rate=0.18,\n",
       "                              max_bin=None, max_cat_threshold=None,\n",
       "                              max_cat_to_onehot=None, max_delta_step=None,\n",
       "                              max_depth=5, max_leaves=None,\n",
       "                              min_child_weight=None, missing=nan,\n",
       "                              monotone_constraints=None, multi_strategy=None,\n",
       "                              n_estimators=246, n_jobs=None,\n",
       "                              num_parallel_tree=None, random_state=42, ...))])"
      ]
     },
     "execution_count": 24,
     "metadata": {},
     "output_type": "execute_result"
    }
   ],
   "source": [
    "warnings.filterwarnings(\"ignore\", category=FutureWarning, module=\"sklearn.compose._column_transformer\")\n",
    "\n",
    "# Réentraînement sur les données de base (sans features avancées) (J'aurais du definir plusieurs pipeline au départ pour ne pas avoir à réentrainer...)\n",
    "reg_tuned.fit(X_train_reg, y_train_log)"
   ]
  },
  {
   "cell_type": "markdown",
   "id": "13cc4f25-d170-4df1-8320-ffd5e81419ab",
   "metadata": {},
   "source": [
    "## Cross-Validation"
   ]
  },
  {
   "cell_type": "code",
   "execution_count": 15,
   "id": "78d0277b-018a-47c2-bfed-5d154cf7a0c9",
   "metadata": {},
   "outputs": [
    {
     "name": "stdout",
     "output_type": "stream",
     "text": [
      "Cross-validation RMSE (réel) par fold : [423.81890702 434.63394269 400.81837279 372.21144885 517.04333247]\n",
      "RMSE moyen (réel): 429.7052007646418\n",
      "RMSE écart-type (réel): 48.63511188427577\n",
      "\n",
      "Cross-validation MAE (réel) par fold : [199.82767359 211.72357065 192.91979312 176.16226074 234.58485936]\n",
      "MAE moyen (réel): 203.0436314904733\n",
      "MAE écart-type (réel): 19.522463889807103\n"
     ]
    }
   ],
   "source": [
    "# Sélectionner seulement les transactions profitables\n",
    "df_reg = df[df['is_profitable'] == 1].copy()\n",
    "\n",
    "# Variables numériques et catégorielles\n",
    "num_features = [\n",
    "    'Discount','Order_Year','Order_Month',\n",
    "    'Order_DayOfWeek','Order_Quarter','Is_EndOfYear','Delivery_Days'\n",
    "]\n",
    "\n",
    "cat_features = [\n",
    "    'Ship Mode','Segment','City','Region','Sub-Category','State','Product ID','Customer ID'\n",
    "]\n",
    "\n",
    "X_reg = df_reg[num_features + cat_features]\n",
    "y_reg = df_reg['Sales']\n",
    "\n",
    "# Transformation log sur la cible\n",
    "log_y = np.log1p(y_reg)\n",
    "\n",
    "# Preprocessing (OneHotEncoder pour les catégorielles)\n",
    "preprocessor = ColumnTransformer([\n",
    "    (\"cat\", OneHotEncoder(handle_unknown=\"ignore\"), cat_features)\n",
    "], remainder=\"passthrough\")\n",
    "\n",
    "# Pipeline XGBoost (hyperparamètres tunés)\n",
    "reg = Pipeline([\n",
    "    (\"preprocessor\", preprocessor),\n",
    "    (\"model\", XGBRegressor(**best_params))\n",
    "])\n",
    "\n",
    "\n",
    "# Custom scorers en valeurs réelles\n",
    "def rmse_real(y_true_log, y_pred_log):\n",
    "    y_true = np.expm1(y_true_log)   # revenir à l’échelle réelle\n",
    "    y_pred = np.expm1(y_pred_log)\n",
    "    return np.sqrt(mean_squared_error(y_true, y_pred))\n",
    "\n",
    "def mae_real(y_true_log, y_pred_log):\n",
    "    y_true = np.expm1(y_true_log)\n",
    "    y_pred = np.expm1(y_pred_log)\n",
    "    return mean_absolute_error(y_true, y_pred)\n",
    "\n",
    "rmse_scorer = make_scorer(rmse_real, greater_is_better=False)\n",
    "mae_scorer = make_scorer(mae_real, greater_is_better=False)\n",
    "\n",
    "\n",
    "# Cross-validation\n",
    "kf = KFold(n_splits=5, shuffle=True, random_state=42)\n",
    "\n",
    "rmse_scores = -cross_val_score(reg, X_reg, log_y, cv=kf, scoring=rmse_scorer)\n",
    "mae_scores  = -cross_val_score(reg, X_reg, log_y, cv=kf, scoring=mae_scorer)\n",
    "\n",
    "print(\"Cross-validation RMSE (réel) par fold :\", rmse_scores)\n",
    "print(\"RMSE moyen (réel):\", rmse_scores.mean())\n",
    "print(\"RMSE écart-type (réel):\", rmse_scores.std())\n",
    "\n",
    "print(\"\\nCross-validation MAE (réel) par fold :\", mae_scores)\n",
    "print(\"MAE moyen (réel):\", mae_scores.mean())\n",
    "print(\"MAE écart-type (réel):\", mae_scores.std())"
   ]
  },
  {
   "cell_type": "markdown",
   "id": "187f1265-37b2-4b9f-b833-c6c6ece2bbc7",
   "metadata": {},
   "source": [
    "### Constat\n",
    "MAE moyen de 203 avec ecart-type de 19.5, donc stabilité satisfaisante d’un échantillon à l’autre. \n",
    "### Prochaine étape\n",
    "- analyser les courbes d’apprentissage\n",
    "- intégrer early stopping pour prevenir overfitting et optimiser le temps d’entraînement"
   ]
  },
  {
   "cell_type": "markdown",
   "id": "c4360e3f-ad53-4631-9dc2-8a2e5d58585d",
   "metadata": {},
   "source": [
    "## Suivi des courbes d’apprentissage et early stopping"
   ]
  },
  {
   "cell_type": "code",
   "execution_count": 16,
   "id": "ee73f728-6e0a-4c79-879f-d4454563eb20",
   "metadata": {},
   "outputs": [
    {
     "data": {
      "image/png": "[encoded data removed]",
      "text/plain": [
       "<Figure size 1000x600 with 1 Axes>"
      ]
     },
     "metadata": {},
     "output_type": "display_data"
    }
   ],
   "source": [
    "# Transformer explicitement les données avec le preprocessor\n",
    "X_train_enc = preprocessor_reg.fit_transform(X_train_reg)\n",
    "X_test_enc  = preprocessor_reg.transform(X_test_reg)\n",
    "\n",
    "# Conversion en DMatrix\n",
    "dtrain = DMatrix(X_train_enc, label=np.log1p(y_train_reg))\n",
    "dvalid = DMatrix(X_test_enc, label=np.log1p(y_test_reg))\n",
    "\n",
    "# Paramètres\n",
    "params = {\n",
    "    \"objective\": \"reg:squarederror\",\n",
    "    \"eval_metric\": \"rmse\",  # reste en log-space ici\n",
    "    \"eta\": best_params[\"learning_rate\"],    \n",
    "    \"max_depth\": best_params[\"max_depth\"],\n",
    "    \"subsample\": best_params[\"subsample\"],\n",
    "    \"colsample_bytree\": best_params[\"colsample_bytree\"],\n",
    "    \"reg_alpha\": best_params[\"reg_alpha\"],\n",
    "    \"reg_lambda\": best_params[\"reg_lambda\"],\n",
    "    \"seed\": best_params[\"random_state\"]\n",
    "}\n",
    "\n",
    "num_boost_round = best_params[\"n_estimators\"]\n",
    "evals_result = {}\n",
    "\n",
    "# Entraînement avec early stopping\n",
    "xgb_model = train(\n",
    "    params,\n",
    "    dtrain,\n",
    "    num_boost_round=num_boost_round,\n",
    "    evals=[(dtrain, \"train\"), (dvalid, \"valid\")],\n",
    "    early_stopping_rounds=20,\n",
    "    evals_result=evals_result,\n",
    "    verbose_eval=False\n",
    ")\n",
    "\n",
    "# Calcul des RMSE en échelle réelle\n",
    "train_rmse_real, valid_rmse_real = [], []\n",
    "y_train_real = y_train_reg.values\n",
    "y_valid_real = y_test_reg.values\n",
    "\n",
    "n_rounds = len(evals_result[\"train\"][\"rmse\"])\n",
    "\n",
    "for i in range(1, n_rounds + 1):\n",
    "    # prédictions log\n",
    "    y_pred_train_log = xgb_model.predict(dtrain, iteration_range=(0, i))\n",
    "    y_pred_valid_log = xgb_model.predict(dvalid, iteration_range=(0, i))\n",
    "    \n",
    "    # retour en échelle réelle\n",
    "    y_pred_train = np.expm1(y_pred_train_log)\n",
    "    y_pred_valid = np.expm1(y_pred_valid_log)\n",
    "    \n",
    "    # RMSE réels\n",
    "    rmse_train = np.sqrt(mean_squared_error(y_train_real, y_pred_train))\n",
    "    rmse_valid = np.sqrt(mean_squared_error(y_valid_real, y_pred_valid))\n",
    "    \n",
    "    train_rmse_real.append(rmse_train)\n",
    "    valid_rmse_real.append(rmse_valid)\n",
    "\n",
    "# Visualisation\n",
    "plt.figure(figsize=(10,6))\n",
    "plt.plot(train_rmse_real, label=\"Train RMSE (réel)\")\n",
    "plt.plot(valid_rmse_real, label=\"Validation RMSE (réel)\")\n",
    "plt.axvline(xgb_model.best_iteration, color=\"red\", linestyle=\"--\", label=\"Best Iteration\")\n",
    "plt.xlabel(\"Itérations\")\n",
    "plt.ylabel(\"RMSE ($, échelle réelle)\")\n",
    "plt.title(\"Courbes d'apprentissage XGBoost (tuned, early stopping, échelle réelle)\")\n",
    "plt.legend()\n",
    "plt.show()"
   ]
  },
  {
   "cell_type": "markdown",
   "id": "8de1672d-4cac-4b03-aad0-f19ddc18afe4",
   "metadata": {},
   "source": [
    "### Constat\n",
    "- Forte baisse initiale du RMSE: les patterns principaux sont appris rapidement.  \n",
    "- Ensuite, diminution plus progressive: raffinement.  \n",
    "- Les courbes train/validation restent proches, sans trop de divergence: pas de overfitting.  \n",
    "### Early Stopping"
   ]
  },
  {
   "cell_type": "code",
   "execution_count": 17,
   "id": "a9799476-ac88-4144-974e-4c2afe19f895",
   "metadata": {},
   "outputs": [
    {
     "name": "stdout",
     "output_type": "stream",
     "text": [
      "✅ MAE train (réel): 144.88\n",
      "✅ RMSE train (réel): 333.70\n",
      "✅ MAE test  (réel): 197.43\n",
      "✅ RMSE test (réel): 419.31\n"
     ]
    }
   ],
   "source": [
    "# Prédictions avec le meilleur nombre d'itérations\n",
    "best_iter = xgb_model.best_iteration\n",
    "y_pred_train_log = xgb_model.predict(dtrain, iteration_range=(0, best_iter + 1))\n",
    "y_pred_test_log  = xgb_model.predict(dvalid, iteration_range=(0, best_iter + 1))\n",
    "\n",
    "# Retour à l’échelle réelle\n",
    "y_pred_train = np.expm1(y_pred_train_log)\n",
    "y_pred_test  = np.expm1(y_pred_test_log)\n",
    "\n",
    "# Les y réels sont ceux d’origine (en $), pas log-transformés\n",
    "y_train_real = y_train_reg.values\n",
    "y_test_real  = y_test_reg.values\n",
    "\n",
    "# Scores en échelle réelle\n",
    "mae_train = mean_absolute_error(y_train_real, y_pred_train)\n",
    "rmse_train = np.sqrt(mean_squared_error(y_train_real, y_pred_train))\n",
    "\n",
    "mae_test = mean_absolute_error(y_test_real, y_pred_test)\n",
    "rmse_test = np.sqrt(mean_squared_error(y_test_real, y_pred_test))\n",
    "\n",
    "print(f\"✅ MAE train (réel): {mae_train:.2f}\")\n",
    "print(f\"✅ RMSE train (réel): {rmse_train:.2f}\")\n",
    "print(f\"✅ MAE test  (réel): {mae_test:.2f}\")\n",
    "print(f\"✅ RMSE test (réel): {rmse_test:.2f}\")"
   ]
  },
  {
   "cell_type": "markdown",
   "id": "5bb5784b-449d-487b-971f-ecfa7f06f839",
   "metadata": {},
   "source": [
    "# Exporter le modèle"
   ]
  },
  {
   "cell_type": "code",
   "execution_count": 18,
   "id": "133a04bd-bb72-489d-87f6-479a480b8c75",
   "metadata": {},
   "outputs": [
    {
     "name": "stdout",
     "output_type": "stream",
     "text": [
      "✅ Pipeline de classification sauvegardé dans ../models/classifier_pipeline.joblib\n",
      "✅ Pipeline de régression sauvegardé dans ../models/regressor_pipeline.joblib\n"
     ]
    }
   ],
   "source": [
    "# Sauvegarde pipeline de classification\n",
    "clf_path = \"../models/classifier_pipeline.joblib\"\n",
    "joblib.dump(clf, clf_path)\n",
    "print(f\"✅ Pipeline de classification sauvegardé dans {clf_path}\")\n",
    "\n",
    "# Sauvegarde pipeline de régression\n",
    "reg_path = \"../models/regressor_pipeline.joblib\"\n",
    "joblib.dump(reg_tuned, reg_path)\n",
    "print(f\"✅ Pipeline de régression sauvegardé dans {reg_path}\")"
   ]
  },
  {
   "cell_type": "markdown",
   "id": "e5dd895e-e57e-4f5b-b788-a68a4fa2a933",
   "metadata": {},
   "source": [
    "## Test pour charger et utiliser le modèle\n",
    "5 premieres predictions de mon test set"
   ]
  },
  {
   "cell_type": "code",
   "execution_count": 19,
   "id": "a7cc6b23-85a4-4669-acc7-289e58ca83ff",
   "metadata": {},
   "outputs": [
    {
     "name": "stdout",
     "output_type": "stream",
     "text": [
      "✅ Modèles rechargés avec succès\n"
     ]
    }
   ],
   "source": [
    "# === 2. RECHARGEMENT ===\n",
    "loaded_clf = joblib.load(\"../models/classifier_pipeline.joblib\")\n",
    "loaded_reg = joblib.load(\"../models/regressor_pipeline.joblib\")\n",
    "\n",
    "print(\"✅ Modèles rechargés avec succès\")"
   ]
  },
  {
   "cell_type": "code",
   "execution_count": 20,
   "id": "ba31b070-8bb5-43f2-9530-32c328e4a5fc",
   "metadata": {},
   "outputs": [
    {
     "name": "stdout",
     "output_type": "stream",
     "text": [
      "✅ Exemple de ventes prédites (5 premières) : [114.860466 390.51102  873.01917  750.03      81.42805 ]\n"
     ]
    }
   ],
   "source": [
    "# prédire la profitabilité\n",
    "y_pred_class = loaded_clf.predict(X_test)\n",
    "\n",
    "# filtrer les commandes profitables\n",
    "mask_profitable = (y_pred_class == 1)\n",
    "\n",
    "# reconstruire X_test au bon format XGB tuné simple (sans features avancées)\n",
    "X_test_reg = X_test[num_features_reg + cat_features_reg].copy()\n",
    "\n",
    "# Filtrer les profitables\n",
    "X_test_profitable = X_test_reg.loc[y_pred_class == 1]\n",
    "\n",
    "# Appliquer la régression\n",
    "y_pred_sales_log = loaded_reg.predict(X_test_profitable)\n",
    "y_pred_sales = np.expm1(y_pred_sales_log)\n",
    "\n",
    "print(\"✅ Exemple de ventes prédites (5 premières) :\", y_pred_sales[:5])"
   ]
  },
  {
   "cell_type": "markdown",
   "id": "fd3ca64b-1b33-4ca2-b7e0-5c5b444eee88",
   "metadata": {},
   "source": [
    "# Conclusion\n",
    "\n",
    "L'approche en deux étapes permet d’apporter une aide concrète aux gestionnaires :\n",
    "\n",
    "1. **Classification (XGBoost binaire)**  \n",
    "   - Prédiction de la profitabilité d’une commande avec une précision globale de ~90%.  \n",
    "   - Les features les plus influents sont Discount, le type de produit et la zone géographique.\n",
    "\n",
    "2. **Régression (XGBoost sur transactions profitables)**\n",
    "   - Modèle XGBoost retenu avec tuning des hyperparamètres\n",
    "   - L'ajout de features avancés a été testé mais sans amélioration significatives, donc les features non pas été retenus\n",
    "   - Prédiction des ventes avec une performance plus ou moins bonne considérant une moyenne de 339$ par vente profitable:  \n",
    "     - **RMSE ≈ 419**  \n",
    "     - **MAE ≈ 197**  \n",
    "   - La courbe d’apprentissage confirme un apprentissage rapide des principaux patterns et l’absence d'overfitting.\n",
    "   - Early stopping implémenté\n",
    "\n",
    "**Valeur ajoutée pour la business** :  \n",
    "- Identifier à l’avance les commandes à risque de non-profitabilité.  \n",
    "- Estimer le montant attendu des ventes profitables, même dans un contexte de forte variabilité.  \n",
    "- Ces insights peuvent orienter des décisions sur les stratégies de rabais, d'inventaires et de logistique."
   ]
  },
  {
   "cell_type": "code",
   "execution_count": null,
   "id": "e0082625-7af0-439f-ac4e-8cc5a3f9ac9d",
   "metadata": {},
   "outputs": [],
   "source": []
  }
 ],
 "metadata": {
  "kernelspec": {
   "display_name": "Python (methodology-ml)",
   "language": "python",
   "name": "methodology-ml"
  },
  "language_info": {
   "codemirror_mode": {
    "name": "ipython",
    "version": 3
   },
   "file_extension": ".py",
   "mimetype": "text/x-python",
   "name": "python",
   "nbconvert_exporter": "python",
   "pygments_lexer": "ipython3",
   "version": "3.9.6"
  }
 },
 "nbformat": 4,
 "nbformat_minor": 5
}
